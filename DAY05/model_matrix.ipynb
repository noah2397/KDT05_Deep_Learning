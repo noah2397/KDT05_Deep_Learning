{
 "cells": [
  {
   "cell_type": "markdown",
   "metadata": {},
   "source": [
    "# 성능지표 (모델 평가 기준)\n",
    "[분류 평가기준]\n",
    "-f1-score : 정밀도랑 재현율 조화 평균    \n",
    "-accuracy : 몇 개를 제대로 맞추었는지 양성/음성 모두 판단    \n",
    "-precision : 양성이라고 판단한 것 중에 실제 양성인 것 [예측모델 관점]    \n",
    "-recall : 양성인 것을 얼마나 양성이라고 예측했는지 [정답 관점]    \n",
    "-이진분류    \n",
    " : ROC/AUC    \n",
    "-다중분류    \n",
    " : micro, macro, weight    \n",
    " \n",
    "[회귀 평가기준]    \n",
    "RMSE (Root Mean Squared Error): 예측값과 실제값 간의 평균 제곱근 오차     \n",
    "MSE (Mean Squared Error): 예측값과 실제값 간의 제곱 오차의 평균     \n",
    "MAE (Mean Absolute Error): 예측값과 실제값 간의 절대 오차의 평균     \n",
    "R-squared (R^2): 모델이 실제 데이터의 변동을 설명하는 정도     \n",
    "Adjusted R-squared: R-squared 값을 모델의 복잡도로 조정한 값     \n",
    "Max Error: 예측값과 실제값 간의 최대 오차       "
   ]
  },
  {
   "cell_type": "code",
   "execution_count": 41,
   "metadata": {},
   "outputs": [],
   "source": [
    "import torch\n",
    "import torchmetrics.functional.classification as metrics\n",
    "#from torochmetrics.classification import Accuracy, Precision, Recall, F1, ConfusionMatrix\n",
    "import sklearn.metrics as skm\n",
    "import numpy as np\n",
    "\n",
    "target=torch.tensor([2,1,0,0])\n",
    "preds=torch.tensor([2,1,0,1]) # 다중분류"
   ]
  },
  {
   "cell_type": "code",
   "execution_count": 42,
   "metadata": {},
   "outputs": [
    {
     "data": {
      "text/plain": [
       "tensor([[1, 1, 0],\n",
       "        [0, 1, 0],\n",
       "        [0, 0, 1]])"
      ]
     },
     "execution_count": 42,
     "metadata": {},
     "output_type": "execute_result"
    }
   ],
   "source": [
    "metrics.confusion_matrix(preds, target, task='MULTICLASS', num_classes=3)"
   ]
  },
  {
   "cell_type": "code",
   "execution_count": 43,
   "metadata": {},
   "outputs": [],
   "source": [
    "# micro 옵션 : 타겟 데이터가 균형일 때 사용\n",
    "precision = metrics.precision(preds, target, average='micro', task=\"multiclass\", num_classes=3)\n",
    "recall= metrics.recall(preds, target, average='micro', task=\"multiclass\", num_classes=3)\n",
    "f1= metrics.f1_score(preds, target, average='micro', task=\"multiclass\", num_classes=3)\n",
    "accuracy = metrics.accuracy(preds, target, average='micro', task=\"multiclass\", num_classes=3)"
   ]
  },
  {
   "cell_type": "code",
   "execution_count": 44,
   "metadata": {},
   "outputs": [
    {
     "name": "stdout",
     "output_type": "stream",
     "text": [
      "precision : 0.75\n",
      "recall : 0.75\n",
      "f1 : 0.75\n",
      "accuracy : 0.75\n"
     ]
    }
   ],
   "source": [
    "print(f\"precision : {precision}\")\n",
    "print(f\"recall : {recall}\")\n",
    "print(f\"f1 : {f1}\")\n",
    "print(f\"accuracy : {accuracy}\")"
   ]
  },
  {
   "cell_type": "code",
   "execution_count": 45,
   "metadata": {},
   "outputs": [],
   "source": [
    "# macro 옵션 : 타겟 데이터가 불균형일 때 사용\n",
    "precision = metrics.precision(preds, target, average='macro', task=\"multiclass\", num_classes=3)\n",
    "recall= metrics.recall(preds, target, average='macro', task=\"multiclass\", num_classes=3)\n",
    "f1= metrics.f1_score(preds, target, average='macro', task=\"multiclass\", num_classes=3)\n",
    "accuracy = metrics.accuracy(preds, target, average='macro', task=\"multiclass\", num_classes=3)"
   ]
  },
  {
   "cell_type": "code",
   "execution_count": 46,
   "metadata": {},
   "outputs": [
    {
     "name": "stdout",
     "output_type": "stream",
     "text": [
      "precision : 0.8333333730697632\n",
      "recall : 0.8333333730697632\n",
      "f1 : 0.7777777910232544\n",
      "accuracy : 0.8333333730697632\n"
     ]
    }
   ],
   "source": [
    "print(f\"precision : {precision}\")\n",
    "print(f\"recall : {recall}\")\n",
    "print(f\"f1 : {f1}\")\n",
    "print(f\"accuracy : {accuracy}\")"
   ]
  },
  {
   "cell_type": "code",
   "execution_count": 47,
   "metadata": {},
   "outputs": [
    {
     "data": {
      "text/plain": [
       "array([[1, 1, 0],\n",
       "       [0, 1, 0],\n",
       "       [0, 0, 1]], dtype=int64)"
      ]
     },
     "execution_count": 47,
     "metadata": {},
     "output_type": "execute_result"
    }
   ],
   "source": [
    "# sklearn으로도 평가 지표 살펴보기 \n",
    "target=target.numpy() # tensor -> numpy\n",
    "preds=preds.numpy()\n",
    "skm.confusion_matrix(target, preds)"
   ]
  },
  {
   "cell_type": "code",
   "execution_count": 48,
   "metadata": {},
   "outputs": [
    {
     "data": {
      "text/plain": [
       "<sklearn.metrics._plot.confusion_matrix.ConfusionMatrixDisplay at 0x190005e3190>"
      ]
     },
     "execution_count": 48,
     "metadata": {},
     "output_type": "execute_result"
    },
    {
     "data": {
      "image/png": "[encoded data removed]",
      "text/plain": [
       "<Figure size 640x480 with 2 Axes>"
      ]
     },
     "metadata": {},
     "output_type": "display_data"
    }
   ],
   "source": [
    "skm.ConfusionMatrixDisplay(skm.confusion_matrix(target, preds)).plot()"
   ]
  },
  {
   "cell_type": "code",
   "execution_count": 58,
   "metadata": {},
   "outputs": [],
   "source": [
    "# 다중 분류 성능분석 출력\n",
    "accuracy=skm.accuracy_score(target, preds)\n",
    "precision = skm.precision_score(target, preds, average='micro')\n",
    "recall = skm.recall_score(target, preds, average='micro')\n",
    "f1 = skm.f1_score(target, preds, average='micro')\n",
    "report = skm.classification_report(target, preds, target_names=['class 0', 'class 1', 'class 2'])"
   ]
  },
  {
   "cell_type": "code",
   "execution_count": 59,
   "metadata": {},
   "outputs": [
    {
     "name": "stdout",
     "output_type": "stream",
     "text": [
      "precision : 0.75\n",
      "recall : 0.75\n",
      "f1 : 0.75\n",
      "accuracy : 0.75\n"
     ]
    }
   ],
   "source": [
    "print(f\"precision : {precision}\")\n",
    "print(f\"recall : {recall}\")\n",
    "print(f\"f1 : {f1}\")\n",
    "print(f\"accuracy : {accuracy}\")"
   ]
  },
  {
   "cell_type": "code",
   "execution_count": 64,
   "metadata": {},
   "outputs": [
    {
     "name": "stdout",
     "output_type": "stream",
     "text": [
      "              precision    recall  f1-score   support\n",
      "\n",
      "     class 0       1.00      0.50      0.67         2\n",
      "     class 1       0.50      1.00      0.67         1\n",
      "     class 2       1.00      1.00      1.00         1\n",
      "\n",
      "    accuracy                           0.75         4\n",
      "   macro avg       0.83      0.83      0.78         4\n",
      "weighted avg       0.88      0.75      0.75         4\n",
      "\n"
     ]
    }
   ],
   "source": [
    "print(report)"
   ]
  },
  {
   "cell_type": "code",
   "execution_count": null,
   "metadata": {},
   "outputs": [],
   "source": []
  }
 ],
 "metadata": {
  "kernelspec": {
   "display_name": "Torch_PY38",
   "language": "python",
   "name": "python3"
  },
  "language_info": {
   "codemirror_mode": {
    "name": "ipython",
    "version": 3
   },
   "file_extension": ".py",
   "mimetype": "text/x-python",
   "name": "python",
   "nbconvert_exporter": "python",
   "pygments_lexer": "ipython3",
   "version": "3.8.18"
  }
 },
 "nbformat": 4,
 "nbformat_minor": 2
}
