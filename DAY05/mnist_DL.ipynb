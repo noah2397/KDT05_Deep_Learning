{
 "cells": [
  {
   "cell_type": "markdown",
   "metadata": {},
   "source": [
    "### 다중 분류 <hr>\n",
    "- 데이터셋 : scikit-learn Fashion MNIST\n",
    "- 데이터수 : 학습용 60000, 테스틍용 10000\n",
    "- 피쳐갯수 : 28 X 28 흑백 이미지로 784\n",
    "- 타겟갯수 : 티셔츠/상의, 바지, 풀오버, 드레스, 코트, 샌들, 셔츠, 운동화, 가방, 발목 부츠 등 10가지"
   ]
  },
  {
   "cell_type": "markdown",
   "metadata": {},
   "source": [
    "[1] 모듈 로딩 및 데이터 준비 <hr>"
   ]
  },
  {
   "cell_type": "code",
   "execution_count": 317,
   "metadata": {},
   "outputs": [],
   "source": [
    "### ===> 모듈 로딩\n",
    "from sklearn.datasets import fetch_openml \n",
    "from sklearn.preprocessing import LabelEncoder, OneHotEncoder\n",
    "import torch\n",
    "import torch.nn.functional as F \n",
    "import torch.nn as nn \n",
    "from torch.utils.data import Dataset, DataLoader, random_split\n",
    "import torch.optim as optim \n",
    "import torchmetrics.functional as metrics\n",
    "import numpy as np"
   ]
  },
  {
   "cell_type": "code",
   "execution_count": 318,
   "metadata": {},
   "outputs": [],
   "source": [
    "### ===> 데이터 로딩 \n",
    "db_name = 'Fashion-MNIST'\n",
    "\n",
    "# as_frame=False : ndarray 형식으로 반환\n",
    "fashion_data = fetch_openml(name=db_name, parser='auto', as_frame=False)"
   ]
  },
  {
   "cell_type": "code",
   "execution_count": 319,
   "metadata": {},
   "outputs": [
    {
     "name": "stdout",
     "output_type": "stream",
     "text": [
      "data   => int64, (70000, 784)\n",
      "target => object, (70000,)\n",
      "feature_names => ['pixel1', 'pixel2', 'pixel3', 'pixel4', 'pixel5', 'pixel6', 'pixel7', 'pixel8', 'pixel9', 'pixel10', 'pixel11', 'pixel12', 'pixel13', 'pixel14', 'pixel15', 'pixel16', 'pixel17', 'pixel18', 'pixel19', 'pixel20', 'pixel21', 'pixel22', 'pixel23', 'pixel24', 'pixel25', 'pixel26', 'pixel27', 'pixel28', 'pixel29', 'pixel30', 'pixel31', 'pixel32', 'pixel33', 'pixel34', 'pixel35', 'pixel36', 'pixel37', 'pixel38', 'pixel39', 'pixel40', 'pixel41', 'pixel42', 'pixel43', 'pixel44', 'pixel45', 'pixel46', 'pixel47', 'pixel48', 'pixel49', 'pixel50', 'pixel51', 'pixel52', 'pixel53', 'pixel54', 'pixel55', 'pixel56', 'pixel57', 'pixel58', 'pixel59', 'pixel60', 'pixel61', 'pixel62', 'pixel63', 'pixel64', 'pixel65', 'pixel66', 'pixel67', 'pixel68', 'pixel69', 'pixel70', 'pixel71', 'pixel72', 'pixel73', 'pixel74', 'pixel75', 'pixel76', 'pixel77', 'pixel78', 'pixel79', 'pixel80', 'pixel81', 'pixel82', 'pixel83', 'pixel84', 'pixel85', 'pixel86', 'pixel87', 'pixel88', 'pixel89', 'pixel90', 'pixel91', 'pixel92', 'pixel93', 'pixel94', 'pixel95', 'pixel96', 'pixel97', 'pixel98', 'pixel99', 'pixel100', 'pixel101', 'pixel102', 'pixel103', 'pixel104', 'pixel105', 'pixel106', 'pixel107', 'pixel108', 'pixel109', 'pixel110', 'pixel111', 'pixel112', 'pixel113', 'pixel114', 'pixel115', 'pixel116', 'pixel117', 'pixel118', 'pixel119', 'pixel120', 'pixel121', 'pixel122', 'pixel123', 'pixel124', 'pixel125', 'pixel126', 'pixel127', 'pixel128', 'pixel129', 'pixel130', 'pixel131', 'pixel132', 'pixel133', 'pixel134', 'pixel135', 'pixel136', 'pixel137', 'pixel138', 'pixel139', 'pixel140', 'pixel141', 'pixel142', 'pixel143', 'pixel144', 'pixel145', 'pixel146', 'pixel147', 'pixel148', 'pixel149', 'pixel150', 'pixel151', 'pixel152', 'pixel153', 'pixel154', 'pixel155', 'pixel156', 'pixel157', 'pixel158', 'pixel159', 'pixel160', 'pixel161', 'pixel162', 'pixel163', 'pixel164', 'pixel165', 'pixel166', 'pixel167', 'pixel168', 'pixel169', 'pixel170', 'pixel171', 'pixel172', 'pixel173', 'pixel174', 'pixel175', 'pixel176', 'pixel177', 'pixel178', 'pixel179', 'pixel180', 'pixel181', 'pixel182', 'pixel183', 'pixel184', 'pixel185', 'pixel186', 'pixel187', 'pixel188', 'pixel189', 'pixel190', 'pixel191', 'pixel192', 'pixel193', 'pixel194', 'pixel195', 'pixel196', 'pixel197', 'pixel198', 'pixel199', 'pixel200', 'pixel201', 'pixel202', 'pixel203', 'pixel204', 'pixel205', 'pixel206', 'pixel207', 'pixel208', 'pixel209', 'pixel210', 'pixel211', 'pixel212', 'pixel213', 'pixel214', 'pixel215', 'pixel216', 'pixel217', 'pixel218', 'pixel219', 'pixel220', 'pixel221', 'pixel222', 'pixel223', 'pixel224', 'pixel225', 'pixel226', 'pixel227', 'pixel228', 'pixel229', 'pixel230', 'pixel231', 'pixel232', 'pixel233', 'pixel234', 'pixel235', 'pixel236', 'pixel237', 'pixel238', 'pixel239', 'pixel240', 'pixel241', 'pixel242', 'pixel243', 'pixel244', 'pixel245', 'pixel246', 'pixel247', 'pixel248', 'pixel249', 'pixel250', 'pixel251', 'pixel252', 'pixel253', 'pixel254', 'pixel255', 'pixel256', 'pixel257', 'pixel258', 'pixel259', 'pixel260', 'pixel261', 'pixel262', 'pixel263', 'pixel264', 'pixel265', 'pixel266', 'pixel267', 'pixel268', 'pixel269', 'pixel270', 'pixel271', 'pixel272', 'pixel273', 'pixel274', 'pixel275', 'pixel276', 'pixel277', 'pixel278', 'pixel279', 'pixel280', 'pixel281', 'pixel282', 'pixel283', 'pixel284', 'pixel285', 'pixel286', 'pixel287', 'pixel288', 'pixel289', 'pixel290', 'pixel291', 'pixel292', 'pixel293', 'pixel294', 'pixel295', 'pixel296', 'pixel297', 'pixel298', 'pixel299', 'pixel300', 'pixel301', 'pixel302', 'pixel303', 'pixel304', 'pixel305', 'pixel306', 'pixel307', 'pixel308', 'pixel309', 'pixel310', 'pixel311', 'pixel312', 'pixel313', 'pixel314', 'pixel315', 'pixel316', 'pixel317', 'pixel318', 'pixel319', 'pixel320', 'pixel321', 'pixel322', 'pixel323', 'pixel324', 'pixel325', 'pixel326', 'pixel327', 'pixel328', 'pixel329', 'pixel330', 'pixel331', 'pixel332', 'pixel333', 'pixel334', 'pixel335', 'pixel336', 'pixel337', 'pixel338', 'pixel339', 'pixel340', 'pixel341', 'pixel342', 'pixel343', 'pixel344', 'pixel345', 'pixel346', 'pixel347', 'pixel348', 'pixel349', 'pixel350', 'pixel351', 'pixel352', 'pixel353', 'pixel354', 'pixel355', 'pixel356', 'pixel357', 'pixel358', 'pixel359', 'pixel360', 'pixel361', 'pixel362', 'pixel363', 'pixel364', 'pixel365', 'pixel366', 'pixel367', 'pixel368', 'pixel369', 'pixel370', 'pixel371', 'pixel372', 'pixel373', 'pixel374', 'pixel375', 'pixel376', 'pixel377', 'pixel378', 'pixel379', 'pixel380', 'pixel381', 'pixel382', 'pixel383', 'pixel384', 'pixel385', 'pixel386', 'pixel387', 'pixel388', 'pixel389', 'pixel390', 'pixel391', 'pixel392', 'pixel393', 'pixel394', 'pixel395', 'pixel396', 'pixel397', 'pixel398', 'pixel399', 'pixel400', 'pixel401', 'pixel402', 'pixel403', 'pixel404', 'pixel405', 'pixel406', 'pixel407', 'pixel408', 'pixel409', 'pixel410', 'pixel411', 'pixel412', 'pixel413', 'pixel414', 'pixel415', 'pixel416', 'pixel417', 'pixel418', 'pixel419', 'pixel420', 'pixel421', 'pixel422', 'pixel423', 'pixel424', 'pixel425', 'pixel426', 'pixel427', 'pixel428', 'pixel429', 'pixel430', 'pixel431', 'pixel432', 'pixel433', 'pixel434', 'pixel435', 'pixel436', 'pixel437', 'pixel438', 'pixel439', 'pixel440', 'pixel441', 'pixel442', 'pixel443', 'pixel444', 'pixel445', 'pixel446', 'pixel447', 'pixel448', 'pixel449', 'pixel450', 'pixel451', 'pixel452', 'pixel453', 'pixel454', 'pixel455', 'pixel456', 'pixel457', 'pixel458', 'pixel459', 'pixel460', 'pixel461', 'pixel462', 'pixel463', 'pixel464', 'pixel465', 'pixel466', 'pixel467', 'pixel468', 'pixel469', 'pixel470', 'pixel471', 'pixel472', 'pixel473', 'pixel474', 'pixel475', 'pixel476', 'pixel477', 'pixel478', 'pixel479', 'pixel480', 'pixel481', 'pixel482', 'pixel483', 'pixel484', 'pixel485', 'pixel486', 'pixel487', 'pixel488', 'pixel489', 'pixel490', 'pixel491', 'pixel492', 'pixel493', 'pixel494', 'pixel495', 'pixel496', 'pixel497', 'pixel498', 'pixel499', 'pixel500', 'pixel501', 'pixel502', 'pixel503', 'pixel504', 'pixel505', 'pixel506', 'pixel507', 'pixel508', 'pixel509', 'pixel510', 'pixel511', 'pixel512', 'pixel513', 'pixel514', 'pixel515', 'pixel516', 'pixel517', 'pixel518', 'pixel519', 'pixel520', 'pixel521', 'pixel522', 'pixel523', 'pixel524', 'pixel525', 'pixel526', 'pixel527', 'pixel528', 'pixel529', 'pixel530', 'pixel531', 'pixel532', 'pixel533', 'pixel534', 'pixel535', 'pixel536', 'pixel537', 'pixel538', 'pixel539', 'pixel540', 'pixel541', 'pixel542', 'pixel543', 'pixel544', 'pixel545', 'pixel546', 'pixel547', 'pixel548', 'pixel549', 'pixel550', 'pixel551', 'pixel552', 'pixel553', 'pixel554', 'pixel555', 'pixel556', 'pixel557', 'pixel558', 'pixel559', 'pixel560', 'pixel561', 'pixel562', 'pixel563', 'pixel564', 'pixel565', 'pixel566', 'pixel567', 'pixel568', 'pixel569', 'pixel570', 'pixel571', 'pixel572', 'pixel573', 'pixel574', 'pixel575', 'pixel576', 'pixel577', 'pixel578', 'pixel579', 'pixel580', 'pixel581', 'pixel582', 'pixel583', 'pixel584', 'pixel585', 'pixel586', 'pixel587', 'pixel588', 'pixel589', 'pixel590', 'pixel591', 'pixel592', 'pixel593', 'pixel594', 'pixel595', 'pixel596', 'pixel597', 'pixel598', 'pixel599', 'pixel600', 'pixel601', 'pixel602', 'pixel603', 'pixel604', 'pixel605', 'pixel606', 'pixel607', 'pixel608', 'pixel609', 'pixel610', 'pixel611', 'pixel612', 'pixel613', 'pixel614', 'pixel615', 'pixel616', 'pixel617', 'pixel618', 'pixel619', 'pixel620', 'pixel621', 'pixel622', 'pixel623', 'pixel624', 'pixel625', 'pixel626', 'pixel627', 'pixel628', 'pixel629', 'pixel630', 'pixel631', 'pixel632', 'pixel633', 'pixel634', 'pixel635', 'pixel636', 'pixel637', 'pixel638', 'pixel639', 'pixel640', 'pixel641', 'pixel642', 'pixel643', 'pixel644', 'pixel645', 'pixel646', 'pixel647', 'pixel648', 'pixel649', 'pixel650', 'pixel651', 'pixel652', 'pixel653', 'pixel654', 'pixel655', 'pixel656', 'pixel657', 'pixel658', 'pixel659', 'pixel660', 'pixel661', 'pixel662', 'pixel663', 'pixel664', 'pixel665', 'pixel666', 'pixel667', 'pixel668', 'pixel669', 'pixel670', 'pixel671', 'pixel672', 'pixel673', 'pixel674', 'pixel675', 'pixel676', 'pixel677', 'pixel678', 'pixel679', 'pixel680', 'pixel681', 'pixel682', 'pixel683', 'pixel684', 'pixel685', 'pixel686', 'pixel687', 'pixel688', 'pixel689', 'pixel690', 'pixel691', 'pixel692', 'pixel693', 'pixel694', 'pixel695', 'pixel696', 'pixel697', 'pixel698', 'pixel699', 'pixel700', 'pixel701', 'pixel702', 'pixel703', 'pixel704', 'pixel705', 'pixel706', 'pixel707', 'pixel708', 'pixel709', 'pixel710', 'pixel711', 'pixel712', 'pixel713', 'pixel714', 'pixel715', 'pixel716', 'pixel717', 'pixel718', 'pixel719', 'pixel720', 'pixel721', 'pixel722', 'pixel723', 'pixel724', 'pixel725', 'pixel726', 'pixel727', 'pixel728', 'pixel729', 'pixel730', 'pixel731', 'pixel732', 'pixel733', 'pixel734', 'pixel735', 'pixel736', 'pixel737', 'pixel738', 'pixel739', 'pixel740', 'pixel741', 'pixel742', 'pixel743', 'pixel744', 'pixel745', 'pixel746', 'pixel747', 'pixel748', 'pixel749', 'pixel750', 'pixel751', 'pixel752', 'pixel753', 'pixel754', 'pixel755', 'pixel756', 'pixel757', 'pixel758', 'pixel759', 'pixel760', 'pixel761', 'pixel762', 'pixel763', 'pixel764', 'pixel765', 'pixel766', 'pixel767', 'pixel768', 'pixel769', 'pixel770', 'pixel771', 'pixel772', 'pixel773', 'pixel774', 'pixel775', 'pixel776', 'pixel777', 'pixel778', 'pixel779', 'pixel780', 'pixel781', 'pixel782', 'pixel783', 'pixel784']\n",
      "target_names => ['class']\n",
      "categories => {'class': ['0', '1', '2', '3', '4', '5', '6', '7', '8', '9']}\n"
     ]
    }
   ],
   "source": [
    "### ===> 데이터 확인\n",
    "print(f'data   => {fashion_data[\"data\"].dtype}, {fashion_data[\"data\"].shape}')\n",
    "print(f'target => {fashion_data[\"target\"].dtype}, {fashion_data[\"target\"].shape}')\n",
    "print(f'feature_names => {fashion_data[\"feature_names\"]}\\ntarget_names => {fashion_data[\"target_names\"]}')\n",
    "print(f'categories => {fashion_data[\"categories\"]}')"
   ]
  },
  {
   "cell_type": "markdown",
   "metadata": {},
   "source": [
    "[2] 데이터 전처리 - 피쳐와 타겟 분리, 정규화 <hr>"
   ]
  },
  {
   "cell_type": "code",
   "execution_count": 320,
   "metadata": {},
   "outputs": [
    {
     "name": "stdout",
     "output_type": "stream",
     "text": [
      "feature => <class 'numpy.ndarray'>, (70000, 784)\n",
      "feature raw data =>\n",
      "[[  0   0   0   0   0   0   0   0   0   0   0   0   0   0   0   0   0   0\n",
      "    0   0   0   0   0   0   0   0   0   0   0   0   0   0   0   0   0   0\n",
      "    0   0   0   0   0   0   0   0   0   0   0   0   0   0   0   0   0   0\n",
      "    0   0   0   0   0   0   0   0   0   0   0   0   0   0   0   0   0   0\n",
      "    0   0   0   0   0   0   0   0   0   0   0   0   0   0   0   0   0   0\n",
      "    0   0   0   0   0   0   1   0   0  13  73   0   0   1   4   0   0   0\n",
      "    0   1   1   0   0   0   0   0   0   0   0   0   0   0   0   0   3   0\n",
      "   36 136 127  62  54   0   0   0   1   3   4   0   0   3   0   0   0   0\n",
      "    0   0   0   0   0   0   0   0   6   0 102 204 176 134 144 123  23   0\n",
      "    0   0   0  12  10   0   0   0   0   0   0   0   0   0   0   0   0   0\n",
      "    0   0 155 236 207 178 107 156 161 109  64  23  77 130  72  15   0   0\n",
      "    0   0   0   0   0   0   0   0   0   1   0  69 207 223 218 216 216 163\n",
      "  127 121 122 146 141  88 172  66   0   0   0   0   0   0   0   0   0   1\n",
      "    1   1   0 200 232 232 233 229 223 223 215 213 164 127 123 196 229   0\n",
      "    0   0   0   0   0   0   0   0   0   0   0   0   0 183 225 216 223 228\n",
      "  235 227 224 222 224 221 223 245 173   0   0   0   0   0   0   0   0   0\n",
      "    0   0   0   0   0 193 228 218 213 198 180 212 210 211 213 223 220 243\n",
      "  202   0   0   0   0   0   0   0   0   0   0   1   3   0  12 219 220 212\n",
      "  218 192 169 227 208 218 224 212 226 197 209  52   0   0   0   0   0   0\n",
      "    0   0   0   0   6   0  99 244 222 220 218 203 198 221 215 213 222 220\n",
      "  245 119 167  56   0   0   0   0   0   0   0   0   0   4   0   0  55 236\n",
      "  228 230 228 240 232 213 218 223 234 217 217 209  92   0   0   0   1   4\n",
      "    6   7   2   0   0   0   0   0 237 226 217 223 222 219 222 221 216 223\n",
      "  229 215 218 255  77   0   0   3   0   0   0   0   0   0   0  62 145 204\n",
      "  228 207 213 221 218 208 211 218 224 223 219 215 224 244 159   0   0   0\n",
      "    0   0  18  44  82 107 189 228 220 222 217 226 200 205 211 230 224 234\n",
      "  176 188 250 248 233 238 215   0   0  57 187 208 224 221 224 208 204 214\n",
      "  208 209 200 159 245 193 206 223 255 255 221 234 221 211 220 232 246   0\n",
      "    3 202 228 224 221 211 211 214 205 205 205 220 240  80 150 255 229 221\n",
      "  188 154 191 210 204 209 222 228 225   0  98 233 198 210 222 229 229 234\n",
      "  249 220 194 215 217 241  65  73 106 117 168 219 221 215 217 223 223 224\n",
      "  229  29  75 204 212 204 193 205 211 225 216 185 197 206 198 213 240 195\n",
      "  227 245 239 223 218 212 209 222 220 221 230  67  48 203 183 194 213 197\n",
      "  185 190 194 192 202 214 219 221 220 236 225 216 199 206 186 181 177 172\n",
      "  181 205 206 115   0 122 219 193 179 171 183 196 204 210 213 207 211 210\n",
      "  200 196 194 191 195 191 198 192 176 156 167 177 210  92   0   0  74 189\n",
      "  212 191 175 172 175 181 185 188 189 188 193 198 204 209 210 210 211 188\n",
      "  188 194 192 216 170   0   2   0   0   0  66 200 222 237 239 242 246 243\n",
      "  244 221 220 193 191 179 182 182 181 176 166 168  99  58   0   0   0   0\n",
      "    0   0   0   0   0  40  61  44  72  41  35   0   0   0   0   0   0   0\n",
      "    0   0   0   0   0   0   0   0   0   0   0   0   0   0   0   0   0   0\n",
      "    0   0   0   0   0   0   0   0   0   0   0   0   0   0   0   0   0   0\n",
      "    0   0   0   0   0   0   0   0   0   0   0   0   0   0   0   0   0   0\n",
      "    0   0   0   0   0   0   0   0   0   0]]\n",
      "\n",
      "target  => <class 'numpy.ndarray'>,(70000,)\n",
      "target raw data  => ['9']\n"
     ]
    }
   ],
   "source": [
    "### ===> 피쳐와 타겟 분리\n",
    "# sklearn dataset 에서 이미 처리 해둠\n",
    "feature=fashion_data['data']\n",
    "target=fashion_data['target']\n",
    "\n",
    "print(f'feature => {type(feature)}, {feature.shape}')\n",
    "print(f'feature raw data =>\\n{feature[:1]}\\n')\n",
    "\n",
    "print(f'target  => {type(target)},{target.shape}')\n",
    "print(f'target raw data  => {target[:1]}')"
   ]
  },
  {
   "cell_type": "code",
   "execution_count": 321,
   "metadata": {},
   "outputs": [
    {
     "name": "stdout",
     "output_type": "stream",
     "text": [
      "norm_feature =>\n",
      "[[0. 0. 0. ... 0. 0. 0.]\n",
      " [0. 0. 0. ... 0. 0. 0.]]\n",
      "norm_feature min => 0.0   max => 1.0\n"
     ]
    }
   ],
   "source": [
    "### ===> 정규화 : 피쳐\n",
    "# 이미지 데이터 값 0 ~ 255b\n",
    "norm_feature =feature/255.\n",
    "\n",
    "print(f'norm_feature =>\\n{norm_feature[:2]}')\n",
    "print(f'norm_feature min => {norm_feature.min()}   max => { norm_feature.max()}')"
   ]
  },
  {
   "cell_type": "code",
   "execution_count": 322,
   "metadata": {},
   "outputs": [
    {
     "name": "stdout",
     "output_type": "stream",
     "text": [
      "norm_target : int32 10개\n"
     ]
    }
   ],
   "source": [
    "### ===> 정규화 : 타겟\n",
    "# # 타겟 분류 클래스 : '0' ~ '9'  ==> 0 ~ 9 정수 변환\n",
    "norm_target=target.astype(int)\n",
    "print(f'norm_target : {norm_target.dtype} {np.unique(norm_target).size}개')\n"
   ]
  },
  {
   "cell_type": "code",
   "execution_count": 323,
   "metadata": {},
   "outputs": [
    {
     "name": "stdout",
     "output_type": "stream",
     "text": [
      "norm_target => (70000,), 1D\n",
      "[9 0 0 3 0]\n"
     ]
    }
   ],
   "source": [
    "print(f'norm_target => {norm_target.shape}, {norm_target.ndim}D\\n{norm_target[:5]}')"
   ]
  },
  {
   "cell_type": "markdown",
   "metadata": {},
   "source": [
    "[3] 학습 데이터 셋 준비 - 훈련용, 검증용, 테스트용 데이터 셋 <hr>"
   ]
  },
  {
   "cell_type": "markdown",
   "metadata": {},
   "source": [
    "- [3-1] 사용자 정의 데이터 셋 및 전체 데이터셋 준비"
   ]
  },
  {
   "cell_type": "code",
   "execution_count": 324,
   "metadata": {},
   "outputs": [],
   "source": [
    "### 사용자정의 DataSet 클래스 \n",
    "# - 데이터의 Tensor 변환 \n",
    "class DLDataset(Dataset):\n",
    "    \n",
    "    # 초기화 함수 콜백함수(callback funcaion)\n",
    "    def __init__(self, x_data, y_data):\n",
    "        super().__init__()\n",
    "        # ndarray ==> tensor\n",
    "        self.feature=torch.FloatTensor(x_data)\n",
    "        self.target=torch.LongTensor(y_data)\n",
    "        \n",
    "        \n",
    "    # 데이터셋의 갯수 체크 함수 콜백함수(callback funcaion)\n",
    "    def __len__(self):\n",
    "        return self.target.shape[0]\n",
    "    \n",
    "    \n",
    "    # 특정 인덱스 데이터+라벨 반환 콜백함수(callback funcaion)\n",
    "    def __getitem__(self, index):\n",
    "        return self.feature[index], self.target[index]"
   ]
  },
  {
   "cell_type": "code",
   "execution_count": 325,
   "metadata": {},
   "outputs": [
    {
     "name": "stdout",
     "output_type": "stream",
     "text": [
      "[all dataset] feature : torch.Size([70000, 784]),   target : torch.Size([70000])\n"
     ]
    }
   ],
   "source": [
    "### 전체 데이터셋 생성\n",
    "##  DataSet 생성\n",
    "all_dataset = DLDataset(norm_feature, norm_target)\n",
    "\n",
    "print(f'[all dataset] feature : {all_dataset.feature.shape},   target : {all_dataset.target.shape}')"
   ]
  },
  {
   "cell_type": "markdown",
   "metadata": {},
   "source": [
    "- [3-2] 학습용, 검증용, 테스트용 데이터셋 분리 "
   ]
  },
  {
   "cell_type": "code",
   "execution_count": 326,
   "metadata": {},
   "outputs": [
    {
     "name": "stdout",
     "output_type": "stream",
     "text": [
      "Train dataset length    : 49000개\n",
      "Validation dataset      : 7000개\n",
      "Test dataset            : 14000개\n"
     ]
    }
   ],
   "source": [
    "# 랜덤 고정 설정\n",
    "seed_gen=torch.Generator().manual_seed(42)\n",
    "\n",
    "TR_SIZE, VA_SIZE, TE_SIZE = 0.7, 0.1, 0.2\n",
    "\n",
    "trainDS, validDS, testDS = random_split(all_dataset, \n",
    "                                  [TR_SIZE, VA_SIZE, TE_SIZE], \n",
    "                                  generator=seed_gen)\n",
    "\n",
    "print(f\"Train dataset length    : {len(trainDS)}개\")\n",
    "print(f\"Validation dataset      : {len(validDS)}개\")\n",
    "print(f\"Test dataset            : {len(testDS)}개\")"
   ]
  },
  {
   "cell_type": "markdown",
   "metadata": {},
   "source": [
    "[4] 데이터 로더 생성 <hr>"
   ]
  },
  {
   "cell_type": "code",
   "execution_count": 327,
   "metadata": {},
   "outputs": [],
   "source": [
    "BATCH_SIZE = 50\n",
    "\n",
    "TRAIN_DL = DataLoader(trainDS, batch_size=BATCH_SIZE)\n",
    "VALID_DL = DataLoader(validDS, batch_size=BATCH_SIZE)\n",
    "TEST_DL = DataLoader(testDS,   batch_size=BATCH_SIZE)"
   ]
  },
  {
   "cell_type": "markdown",
   "metadata": {},
   "source": [
    "[5] 모델 준비 : 입력층 입력 수, 출력층 출력 수 <hr>"
   ]
  },
  {
   "cell_type": "code",
   "execution_count": 328,
   "metadata": {},
   "outputs": [],
   "source": [
    "### ===> 다중 분류 모델\n",
    "### ===> 입력층 피쳐 수  : 28 * 28\n",
    "### ===> 출력층 피쳐 수  : 10 (0 ~ 9)\n",
    "class MNISTModel(nn.Module):\n",
    "    \n",
    "    # 모델 구성 요소 초기화 \n",
    "    def __init__(self, in_dim, out_dim):\n",
    "        super().__init__()\n",
    "        self.layer1=nn.Linear(in_dim, 200)\n",
    "        self.layer2=nn.Linear(200, 100)\n",
    "        self.layer3=nn.Linear(100, 50)\n",
    "        self.layer4=nn.Linear(50, out_dim)\n",
    "        self.relu=nn.ReLU()\n",
    "        \n",
    "    def forward(self, x):\n",
    "        y=self.layer1(x)\n",
    "        y=self.relu(y)\n",
    "        y=self.layer2(y)\n",
    "        y=self.relu(y)\n",
    "        y=self.layer3(y)\n",
    "        y=self.relu(y)\n",
    "        y=self.layer4(y)\n",
    "        return y\n",
    "        "
   ]
  },
  {
   "cell_type": "code",
   "execution_count": 329,
   "metadata": {},
   "outputs": [],
   "source": [
    "class NOAHModel(nn.Module):\n",
    "    \n",
    "    # 모델 구성 요소 초기화 \n",
    "    def __init__(self, in_dim, out_dim):\n",
    "        super().__init__()\n",
    "        \n",
    "        self.first=in_dim\n",
    "        self.last=out_dim\n",
    "        self.relu=nn.Tanh()\n",
    "        self.layer=nn.ModuleList() # 빈 리스트 생성\n",
    "        \n",
    "        while True:\n",
    "            self.layer.append(nn.Linear(self.first, int(np.sqrt(self.first*self.last))))\n",
    "            self.layer.append(self.relu)\n",
    "            if int(np.sqrt(self.first*self.last)) <= self.last :\n",
    "                break\n",
    "            self.first=int(np.sqrt(self.first*self.last))\n",
    "        \n",
    "        \n",
    "    def forward(self, x):\n",
    "        for i in self.layer:\n",
    "            x=i(x)\n",
    "        \n",
    "        return x\n",
    "# nn.ModuleList() : 여러개의 nn.Module을 하나로 묶어주는 역할\n",
    "# nn.ModuleList([nn.Linear(10,10) for i in range(n_hidden)])"
   ]
  },
  {
   "cell_type": "code",
   "execution_count": 330,
   "metadata": {},
   "outputs": [
    {
     "data": {
      "text/plain": [
       "<bound method Module.modules of NOAHModel(\n",
       "  (relu): Tanh()\n",
       "  (layer): ModuleList(\n",
       "    (0): Linear(in_features=784, out_features=88, bias=True)\n",
       "    (1): Tanh()\n",
       "    (2): Linear(in_features=88, out_features=29, bias=True)\n",
       "    (3): Tanh()\n",
       "    (4): Linear(in_features=29, out_features=17, bias=True)\n",
       "    (5): Tanh()\n",
       "    (6): Linear(in_features=17, out_features=13, bias=True)\n",
       "    (7): Tanh()\n",
       "    (8): Linear(in_features=13, out_features=11, bias=True)\n",
       "    (9): Tanh()\n",
       "    (10): Linear(in_features=11, out_features=10, bias=True)\n",
       "    (11): Tanh()\n",
       "  )\n",
       ")>"
      ]
     },
     "execution_count": 330,
     "metadata": {},
     "output_type": "execute_result"
    }
   ],
   "source": [
    "NOAHModel(28*28, 10).modules"
   ]
  },
  {
   "cell_type": "markdown",
   "metadata": {},
   "source": [
    "- [6-1] 학습 진행 준비 :  모델, 최적화, 학습횟수 "
   ]
  },
  {
   "cell_type": "code",
   "execution_count": 331,
   "metadata": {},
   "outputs": [],
   "source": [
    "# 실행 디바이스 \n",
    "DEVICE = 'cuda' if torch.cuda.is_available() else 'cpu'\n",
    "\n",
    "# 입출력 피쳐\n",
    "IN_DIM , OUT_DIM = norm_feature.shape[1], np.unique(norm_target).size\n",
    "\n",
    "# 모델 인스턴스 \n",
    "MODEL = NOAHModel(IN_DIM,OUT_DIM).to(DEVICE)\n",
    "#MNISTModel(IN_DIM, OUT_DIM).to(DEVICE)\n",
    "\n",
    "# 최적화 인스턴스 생성\n",
    "OPTIMIZER = optim.SGD(MODEL.parameters())\n",
    "\n",
    "#  손실 함수\n",
    "LOSS_FN = nn.CrossEntropyLoss().to(DEVICE)\n",
    "\n",
    "# 학습 횟수 설정\n",
    "EPOCHS=30\n",
    "\n",
    "# 분류 갯수 \n",
    "CLASSES = 10"
   ]
  },
  {
   "cell_type": "markdown",
   "metadata": {},
   "source": [
    "[6] 학습 관련 함수 정의 <hr>"
   ]
  },
  {
   "cell_type": "code",
   "execution_count": 332,
   "metadata": {},
   "outputs": [],
   "source": [
    "### ===> 학습 진행함수 \n",
    "def training(epoch):\n",
    "    # 학습모드 => 정규화, 경사하강법, 드랍아웃 등의 기능 활성화 \n",
    "    MODEL.train()\n",
    "    \n",
    "    # 배치크기 만큼 학습 진행 및 저장\n",
    "    train_report=[[], [], []]\n",
    "    for idx, (feature, target)  in enumerate(TRAIN_DL):\n",
    "        # 배치크기만큼의 학습 데이터 준비\n",
    "        feature, target = feature.to(DEVICE), target.to(DEVICE)\n",
    "        \n",
    "        # 학습\n",
    "        pre_traget = MODEL(feature)\n",
    "        \n",
    "        # 손실계산\n",
    "        loss = LOSS_FN(pre_traget, target)\n",
    "        train_report[0].append(loss)\n",
    "        \n",
    "        # 성능 평가\n",
    "        acc = metrics.accuracy(pre_traget, target, task='multiclass', num_classes=CLASSES)\n",
    "        train_report[1].append(acc)\n",
    "        \n",
    "        f1 = metrics.f1_score(pre_traget, target, task='multiclass', num_classes=CLASSES)\n",
    "        train_report[2].append(f1)\n",
    "        \n",
    "        # W,b업데이트\n",
    "        OPTIMIZER.zero_grad()\n",
    "        loss.backward()\n",
    "        OPTIMIZER.step()\n",
    "        \n",
    "        if not idx%50: print('.', end='')\n",
    "    \n",
    "    \n",
    "    # 에포크 단위 학습 진행 메시지 출력\n",
    "    loss_score = (sum(train_report[0])/BATCH_SIZE).item()\n",
    "    acc_score = (sum(train_report[1])/BATCH_SIZE).item()\n",
    "    f1_score = (sum(train_report[2])/BATCH_SIZE).item() \n",
    "    print(f'\\n[{epoch} Train ] Loss ==> {loss_score:.3f} Acc ==> {acc_score:.3f} F1 ==> {f1_score:.3f}')\n",
    "    \n",
    "    return loss_score, acc_score, f1_score"
   ]
  },
  {
   "cell_type": "code",
   "execution_count": 333,
   "metadata": {},
   "outputs": [],
   "source": [
    "### ===> 검증 및 테스트 진행함수 \n",
    "def testing(epoch, kind='valid'):\n",
    "    # 학습모드 => 정규화, 경사하강법, 드랍아웃 등의 기능 활성화 \n",
    "    MODEL.eval()\n",
    "        \n",
    "    with torch.no_grad():\n",
    "        # 배치크기 만큼 학습 진행 및 저장\n",
    "        test_report=[[], [], []]\n",
    "        for idx, (feature, target)  in enumerate(VALID_DL if kind == 'valid' else TEST_DL):\n",
    "            # 배치크기만큼의 학습 데이터 준비\n",
    "            feature, target = feature.to(DEVICE), target.to(DEVICE)\n",
    "\n",
    "            # 학습\n",
    "            pre_traget = MODEL(feature)\n",
    "\n",
    "            # 손실계산\n",
    "            loss = LOSS_FN(pre_traget, target)\n",
    "            test_report[0].append(loss)\n",
    "            \n",
    "            # 성능 평가 \n",
    "            acc = metrics.accuracy(pre_traget, target, task='multiclass', num_classes=CLASSES)\n",
    "            test_report[1].append(acc)\n",
    "            \n",
    "            f1 = metrics.f1_score(pre_traget, target, task='multiclass', num_classes=CLASSES)\n",
    "            test_report[2].append(f1)\n",
    "            \n",
    "            #if not idx%50: print('.', end='')\n",
    "\n",
    "    testing_type = 'Valid' if kind == 'valid' else 'Test'\n",
    "        \n",
    "    # 에포크 단위 학습 진행 메시지 출력\n",
    "    loss_score = (sum(test_report[0])/BATCH_SIZE).item()\n",
    "    acc_score = (sum(test_report[1])/BATCH_SIZE).item()\n",
    "    f1_score = (sum(test_report[2])/BATCH_SIZE).item() \n",
    "    print(f'[{epoch} {testing_type} ] Loss ==> {loss_score:.3f} Acc ==> {acc_score:.3f} F1 ==> {f1_score:.3f}\\n')\n",
    "    \n",
    "    return loss_score, acc_score, f1_score"
   ]
  },
  {
   "cell_type": "markdown",
   "metadata": {},
   "source": [
    "[7] 학습 : 학습 진행 준비, 학습 진행 <hr>"
   ]
  },
  {
   "cell_type": "markdown",
   "metadata": {},
   "source": [
    "- [7-2] 학습 진행"
   ]
  },
  {
   "cell_type": "code",
   "execution_count": 334,
   "metadata": {},
   "outputs": [],
   "source": [
    "# 학습 중 모델 저장 관련 변수\n",
    "dir = '../data/model/'\n",
    "filename=dir+'best_model.pth'\n",
    "import os\n",
    "\n",
    "if not os.path.exists(dir):\n",
    "    os.makedirs(dir) # 다 만들어줌\n",
    "    "
   ]
  },
  {
   "cell_type": "code",
   "execution_count": 335,
   "metadata": {},
   "outputs": [
    {
     "name": "stdout",
     "output_type": "stream",
     "text": [
      "[Epoch 1/30] .."
     ]
    },
    {
     "name": "stdout",
     "output_type": "stream",
     "text": [
      "..................\n",
      "[0 Train ] Loss ==> 45.368 Acc ==> 1.971 F1 ==> 1.971\n",
      "[0 Valid ] Loss ==> 6.471 Acc ==> 0.281 F1 ==> 0.281\n",
      "\n",
      "Model saved at ../data/model/best_model.pth\n",
      "[Epoch 2/30] ....................\n",
      "[1 Train ] Loss ==> 45.201 Acc ==> 1.971 F1 ==> 1.971\n",
      "[1 Valid ] Loss ==> 6.446 Acc ==> 0.281 F1 ==> 0.281\n",
      "\n",
      "Model saved at ../data/model/best_model.pth\n",
      "[Epoch 3/30] ....................\n",
      "[2 Train ] Loss ==> 45.015 Acc ==> 1.971 F1 ==> 1.971\n",
      "[2 Valid ] Loss ==> 6.416 Acc ==> 0.281 F1 ==> 0.281\n",
      "\n",
      "Model saved at ../data/model/best_model.pth\n",
      "[Epoch 4/30] ....................\n",
      "[3 Train ] Loss ==> 44.762 Acc ==> 1.971 F1 ==> 1.971\n",
      "[3 Valid ] Loss ==> 6.370 Acc ==> 0.282 F1 ==> 0.282\n",
      "\n",
      "Model saved at ../data/model/best_model.pth\n",
      "[Epoch 5/30] ....................\n",
      "[4 Train ] Loss ==> 44.341 Acc ==> 2.000 F1 ==> 2.000\n",
      "[4 Valid ] Loss ==> 6.288 Acc ==> 0.293 F1 ==> 0.293\n",
      "\n",
      "Model saved at ../data/model/best_model.pth\n",
      "[Epoch 6/30] ....................\n",
      "[5 Train ] Loss ==> 43.528 Acc ==> 2.569 F1 ==> 2.569\n",
      "[5 Valid ] Loss ==> 6.127 Acc ==> 0.529 F1 ==> 0.529\n",
      "\n",
      "Model saved at ../data/model/best_model.pth\n",
      "[Epoch 7/30] ....................\n",
      "[6 Train ] Loss ==> 42.079 Acc ==> 4.370 F1 ==> 4.370\n",
      "[6 Valid ] Loss ==> 5.878 Acc ==> 0.688 F1 ==> 0.688\n",
      "\n",
      "Model saved at ../data/model/best_model.pth\n",
      "[Epoch 8/30] ....................\n",
      "[7 Train ] Loss ==> 40.289 Acc ==> 4.741 F1 ==> 4.741\n",
      "[7 Valid ] Loss ==> 5.630 Acc ==> 0.664 F1 ==> 0.664\n",
      "\n",
      "Model saved at ../data/model/best_model.pth\n",
      "[Epoch 9/30] ....................\n",
      "[8 Train ] Loss ==> 38.770 Acc ==> 4.340 F1 ==> 4.340\n",
      "[8 Valid ] Loss ==> 5.446 Acc ==> 0.581 F1 ==> 0.581\n",
      "\n",
      "Model saved at ../data/model/best_model.pth\n",
      "[Epoch 10/30] ....................\n",
      "[9 Train ] Loss ==> 37.692 Acc ==> 4.042 F1 ==> 4.042\n",
      "[9 Valid ] Loss ==> 5.321 Acc ==> 0.570 F1 ==> 0.570\n",
      "\n",
      "Model saved at ../data/model/best_model.pth\n",
      "[Epoch 11/30] ....................\n",
      "[10 Train ] Loss ==> 36.964 Acc ==> 4.082 F1 ==> 4.082\n",
      "[10 Valid ] Loss ==> 5.238 Acc ==> 0.581 F1 ==> 0.581\n",
      "\n",
      "Model saved at ../data/model/best_model.pth\n",
      "[Epoch 12/30] ....................\n",
      "[11 Train ] Loss ==> 36.475 Acc ==> 4.121 F1 ==> 4.121\n",
      "[11 Valid ] Loss ==> 5.181 Acc ==> 0.584 F1 ==> 0.584\n",
      "\n",
      "Model saved at ../data/model/best_model.pth\n",
      "[Epoch 13/30] ....................\n",
      "[12 Train ] Loss ==> 36.142 Acc ==> 4.149 F1 ==> 4.149\n",
      "[12 Valid ] Loss ==> 5.142 Acc ==> 0.588 F1 ==> 0.588\n",
      "\n",
      "Model saved at ../data/model/best_model.pth\n",
      "[Epoch 14/30] ....................\n",
      "[13 Train ] Loss ==> 35.907 Acc ==> 4.193 F1 ==> 4.193\n",
      "[13 Valid ] Loss ==> 5.115 Acc ==> 0.595 F1 ==> 0.595\n",
      "\n",
      "Model saved at ../data/model/best_model.pth\n",
      "[Epoch 15/30] ....................\n",
      "[14 Train ] Loss ==> 35.736 Acc ==> 4.236 F1 ==> 4.236\n",
      "[14 Valid ] Loss ==> 5.094 Acc ==> 0.602 F1 ==> 0.602\n",
      "\n",
      "Model saved at ../data/model/best_model.pth\n",
      "[Epoch 16/30] ....................\n",
      "[15 Train ] Loss ==> 35.607 Acc ==> 4.292 F1 ==> 4.292\n",
      "[15 Valid ] Loss ==> 5.077 Acc ==> 0.611 F1 ==> 0.611\n",
      "\n",
      "Model saved at ../data/model/best_model.pth\n",
      "[Epoch 17/30] ....................\n",
      "[16 Train ] Loss ==> 35.505 Acc ==> 4.380 F1 ==> 4.380\n",
      "[16 Valid ] Loss ==> 5.065 Acc ==> 0.627 F1 ==> 0.627\n",
      "\n",
      "Model saved at ../data/model/best_model.pth\n",
      "[Epoch 18/30] ....................\n",
      "[17 Train ] Loss ==> 35.423 Acc ==> 4.520 F1 ==> 4.520\n",
      "[17 Valid ] Loss ==> 5.054 Acc ==> 0.656 F1 ==> 0.656\n",
      "\n",
      "Model saved at ../data/model/best_model.pth\n",
      "[Epoch 19/30] ....................\n",
      "[18 Train ] Loss ==> 35.355 Acc ==> 4.771 F1 ==> 4.771\n",
      "[18 Valid ] Loss ==> 5.045 Acc ==> 0.704 F1 ==> 0.704\n",
      "\n",
      "Model saved at ../data/model/best_model.pth\n",
      "[Epoch 20/30] ....................\n",
      "[19 Train ] Loss ==> 35.297 Acc ==> 5.185 F1 ==> 5.185\n",
      "[19 Valid ] Loss ==> 5.037 Acc ==> 0.773 F1 ==> 0.773\n",
      "\n",
      "Model saved at ../data/model/best_model.pth\n",
      "[Epoch 21/30] ....................\n",
      "[20 Train ] Loss ==> 35.247 Acc ==> 5.686 F1 ==> 5.686\n",
      "[20 Valid ] Loss ==> 5.031 Acc ==> 0.836 F1 ==> 0.836\n",
      "\n",
      "Model saved at ../data/model/best_model.pth\n",
      "[Epoch 22/30] ....................\n",
      "[21 Train ] Loss ==> 35.203 Acc ==> 5.978 F1 ==> 5.978\n",
      "[21 Valid ] Loss ==> 5.025 Acc ==> 0.856 F1 ==> 0.856\n",
      "\n",
      "Model saved at ../data/model/best_model.pth\n",
      "[Epoch 23/30] ....................\n",
      "[22 Train ] Loss ==> 35.163 Acc ==> 6.074 F1 ==> 6.074\n",
      "[22 Valid ] Loss ==> 5.020 Acc ==> 0.864 F1 ==> 0.864\n",
      "\n",
      "Model saved at ../data/model/best_model.pth\n",
      "[Epoch 24/30] ....................\n",
      "[23 Train ] Loss ==> 35.127 Acc ==> 6.121 F1 ==> 6.121\n",
      "[23 Valid ] Loss ==> 5.015 Acc ==> 0.867 F1 ==> 0.867\n",
      "\n",
      "Model saved at ../data/model/best_model.pth\n",
      "[Epoch 25/30] ....................\n",
      "[24 Train ] Loss ==> 35.093 Acc ==> 5.868 F1 ==> 5.868\n",
      "[24 Valid ] Loss ==> 5.010 Acc ==> 0.729 F1 ==> 0.729\n",
      "\n",
      "Model saved at ../data/model/best_model.pth\n",
      "[Epoch 26/30] ....................\n",
      "[25 Train ] Loss ==> 35.061 Acc ==> 4.629 F1 ==> 4.629\n",
      "[25 Valid ] Loss ==> 5.006 Acc ==> 0.619 F1 ==> 0.619\n",
      "\n",
      "Model saved at ../data/model/best_model.pth\n",
      "[Epoch 27/30] ....................\n",
      "[26 Train ] Loss ==> 35.031 Acc ==> 4.404 F1 ==> 4.404\n",
      "[26 Valid ] Loss ==> 5.002 Acc ==> 0.620 F1 ==> 0.620\n",
      "\n",
      "Model saved at ../data/model/best_model.pth\n",
      "[Epoch 28/30] ....................\n",
      "[27 Train ] Loss ==> 35.000 Acc ==> 4.415 F1 ==> 4.415\n",
      "[27 Valid ] Loss ==> 4.998 Acc ==> 0.614 F1 ==> 0.614\n",
      "\n",
      "Model saved at ../data/model/best_model.pth\n",
      "[Epoch 29/30] ....................\n",
      "[28 Train ] Loss ==> 34.969 Acc ==> 4.397 F1 ==> 4.397\n",
      "[28 Valid ] Loss ==> 4.994 Acc ==> 0.617 F1 ==> 0.617\n",
      "\n",
      "Model saved at ../data/model/best_model.pth\n",
      "[Epoch 30/30] ....................\n",
      "[29 Train ] Loss ==> 34.937 Acc ==> 4.370 F1 ==> 4.370\n",
      "[29 Valid ] Loss ==> 4.989 Acc ==> 0.611 F1 ==> 0.611\n",
      "\n",
      "Model saved at ../data/model/best_model.pth\n",
      "Done!\n"
     ]
    }
   ],
   "source": [
    "# 학습 및 검증 데이터별 성능지표 값\n",
    "train_ = {'loss':[], 'acc':[], 'f1':[]}\n",
    "val_ = {'loss':[], 'acc':[], 'f1':[]}\n",
    "\n",
    "# 모델 저장 관련 변수\n",
    "pre_va_score = 100\n",
    "\n",
    "# 학습 진행 \n",
    "for epo in range(EPOCHS):\n",
    "    print(f\"[Epoch {epo+1}/{EPOCHS}] \", end='')\n",
    "    tr_score=training(epo)\n",
    "    va_score=testing(epo)\n",
    "    \n",
    "    # 검증 데이터 기준 학습된 모델 저장 => Loss가 이전보다 작아진 경우에 저장/Acc또는 F1이면 이전보다 큰 경우 저장 \n",
    "    if pre_va_score > va_score[0]: # 1) Loss 기준\n",
    "        pre_va_score = va_score[0]\n",
    "        torch.save(MODEL, filename)\n",
    "        print(f\"Model saved at {filename}\")\n",
    "    \n",
    "    for idx, key in enumerate(train_):\n",
    "        train_[key].append(tr_score[idx])\n",
    "        val_[key].append(va_score[idx])\n",
    "\n",
    "print(\"Done!\")"
   ]
  },
  {
   "cell_type": "markdown",
   "metadata": {},
   "source": [
    "- [7-3] 학습 후 평가 : Loss, Acc, F1 <hr>"
   ]
  },
  {
   "cell_type": "code",
   "execution_count": 336,
   "metadata": {},
   "outputs": [
    {
     "name": "stdout",
     "output_type": "stream",
     "text": [
      "loss  [45.367984771728516, 45.20134353637695, 45.014732360839844, 44.76213836669922, 44.34104537963867, 43.527618408203125, 42.078914642333984, 40.289398193359375, 38.770328521728516, 37.692256927490234, 36.963897705078125, 36.47480010986328, 36.14155197143555, 35.907257080078125, 35.73627853393555, 35.606651306152344, 35.5050048828125, 35.42286682128906, 35.354679107666016, 35.29682540893555, 35.24677276611328, 35.20262908935547, 35.16301345825195, 35.12685012817383, 35.09321212768555, 35.06138229370117, 35.03061294555664, 35.000160217285156, 34.96916580200195, 34.936561584472656]\n",
      "acc  [1.9708033800125122, 1.9708033800125122, 1.9708033800125122, 1.9708033800125122, 2.000403642654419, 2.5692052841186523, 4.370404243469238, 4.741199016571045, 4.339598178863525, 4.041996479034424, 4.0815958976745605, 4.1207966804504395, 4.1487956047058105, 4.193198204040527, 4.235995292663574, 4.291595935821533, 4.379595756530762, 4.520400047302246, 4.7712016105651855, 5.185204029083252, 5.685599327087402, 5.977996826171875, 6.07399845123291, 6.121196746826172, 5.867999076843262, 4.629197597503662, 4.404400825500488, 4.414797782897949, 4.397200584411621, 4.370398998260498]\n",
      "f1  [1.9708033800125122, 1.9708033800125122, 1.9708033800125122, 1.9708033800125122, 2.000403642654419, 2.5692052841186523, 4.370404243469238, 4.741199016571045, 4.339598178863525, 4.041996479034424, 4.0815958976745605, 4.1207966804504395, 4.1487956047058105, 4.193198204040527, 4.235995292663574, 4.291595935821533, 4.379595756530762, 4.520400047302246, 4.7712016105651855, 5.185204029083252, 5.685599327087402, 5.977996826171875, 6.07399845123291, 6.121196746826172, 5.867999076843262, 4.629197597503662, 4.404400825500488, 4.414797782897949, 4.397200584411621, 4.370398998260498]\n",
      "loss  [6.4714884757995605, 6.446341514587402, 6.41580057144165, 6.370410919189453, 6.288160800933838, 6.1271185874938965, 5.877620697021484, 5.6301679611206055, 5.445959568023682, 5.321007251739502, 5.237585067749023, 5.181370735168457, 5.1424880027771, 5.114545822143555, 5.09366512298584, 5.077493190765381, 5.064570903778076, 5.053967475891113, 5.045065402984619, 5.037445545196533, 5.0308003425598145, 5.0249128341674805, 5.0196123123168945, 5.014765739440918, 5.010252475738525, 5.005978584289551, 5.001835346221924, 4.99772310256958, 4.993509292602539, 4.989016532897949]\n",
      "acc  [0.28080007433891296, 0.28080007433891296, 0.28080007433891296, 0.28160008788108826, 0.2932000458240509, 0.5291998982429504, 0.6880000829696655, 0.6636000275611877, 0.581200122833252, 0.570000171661377, 0.581200122833252, 0.5840001702308655, 0.5884001851081848, 0.5948001146316528, 0.6019999980926514, 0.61080002784729, 0.6268000602722168, 0.6559999585151672, 0.7035999894142151, 0.7727998495101929, 0.8363999724388123, 0.8559998273849487, 0.8636000156402588, 0.8671998381614685, 0.7291998267173767, 0.6188000440597534, 0.6200000047683716, 0.613599956035614, 0.6167999505996704, 0.61080002784729]\n",
      "f1  [0.28080007433891296, 0.28080007433891296, 0.28080007433891296, 0.28160008788108826, 0.2932000458240509, 0.5291998982429504, 0.6880000829696655, 0.6636000275611877, 0.581200122833252, 0.570000171661377, 0.581200122833252, 0.5840001702308655, 0.5884001851081848, 0.5948001146316528, 0.6019999980926514, 0.61080002784729, 0.6268000602722168, 0.6559999585151672, 0.7035999894142151, 0.7727998495101929, 0.8363999724388123, 0.8559998273849487, 0.8636000156402588, 0.8671998381614685, 0.7291998267173767, 0.6188000440597534, 0.6200000047683716, 0.613599956035614, 0.6167999505996704, 0.61080002784729]\n"
     ]
    }
   ],
   "source": [
    "data=[]\n",
    "for idx, key in enumerate(train_):\n",
    "    print(f'{key} ', train_[key])\n",
    "    data.append(train_[key])\n",
    "    \n",
    "data2=[]\n",
    "for idx, key in enumerate(val_):\n",
    "    print(f'{key} ', val_[key])\n",
    "    data2.append(val_[key])"
   ]
  },
  {
   "cell_type": "markdown",
   "metadata": {},
   "source": [
    "[6] 테스트 <hr>"
   ]
  },
  {
   "cell_type": "code",
   "execution_count": 337,
   "metadata": {},
   "outputs": [
    {
     "data": {
      "text/plain": [
       "array([45.36798477, 45.20134354, 45.01473236, 44.76213837, 44.34104538,\n",
       "       43.52761841, 42.07891464, 40.28939819, 38.77032852, 37.69225693,\n",
       "       36.96389771, 36.47480011, 36.14155197, 35.90725708, 35.73627853,\n",
       "       35.60665131, 35.50500488, 35.42286682, 35.35467911, 35.29682541,\n",
       "       35.24677277, 35.20262909, 35.16301346, 35.12685013, 35.09321213,\n",
       "       35.06138229, 35.03061295, 35.00016022, 34.9691658 , 34.93656158])"
      ]
     },
     "execution_count": 337,
     "metadata": {},
     "output_type": "execute_result"
    }
   ],
   "source": [
    "np.array(data).T[:,0]"
   ]
  },
  {
   "cell_type": "code",
   "execution_count": 342,
   "metadata": {},
   "outputs": [
    {
     "data": {
      "image/png": "[encoded data removed]",
      "text/plain": [
       "<Figure size 640x480 with 3 Axes>"
      ]
     },
     "metadata": {},
     "output_type": "display_data"
    }
   ],
   "source": [
    "import matplotlib.pyplot as plt\n",
    "\n",
    "fig = plt.figure()\n",
    "\n",
    "ax1 = plt.subplot2grid((3,1), (0,0))\n",
    "ax2 = plt.subplot2grid((3,1), (1,0))\n",
    "ax3 = plt.subplot2grid((3,1), (2,0))\n",
    "\n",
    "\n",
    "ax1.plot(np.array(data).T[:,0]/7, label='Train Loss')\n",
    "ax1.plot(np.array(data2).T[:,0], label='Validation Loss')\n",
    "ax1.legend()\n",
    "ax2.plot(np.array(data).T[:,1]/7, label='Train_acc', color=\"green\")\n",
    "ax2.plot(np.array(data2).T[:,1], label='val_acc', color=\"blue\")\n",
    "ax2.legend()\n",
    "ax3.plot(np.array(data).T[:,2]/7, label='Train_f1', color=\"red\")\n",
    "ax3.plot(np.array(data2).T[:,2], label='val_f1', color=\"brown\")\n",
    "plt.tight_layout()\n",
    "plt.legend()\n",
    "plt.show()"
   ]
  },
  {
   "cell_type": "code",
   "execution_count": 339,
   "metadata": {},
   "outputs": [],
   "source": [
    "# 모델 테스트\n",
    "MODEL = torch.load(filename)# 모델을 갖고와서"
   ]
  },
  {
   "cell_type": "code",
   "execution_count": 340,
   "metadata": {},
   "outputs": [
    {
     "data": {
      "text/plain": [
       "OrderedDict([('layer.0.weight',\n",
       "              tensor([[ 0.0291,  0.0060,  0.0275,  ..., -0.0211, -0.0333, -0.0238],\n",
       "                      [ 0.0310, -0.0162, -0.0007,  ...,  0.0027,  0.0135, -0.0228],\n",
       "                      [-0.0058, -0.0153,  0.0127,  ...,  0.0102, -0.0093, -0.0083],\n",
       "                      ...,\n",
       "                      [-0.0077, -0.0289,  0.0144,  ..., -0.0097, -0.0254,  0.0100],\n",
       "                      [ 0.0036,  0.0140, -0.0202,  ...,  0.0035, -0.0344, -0.0225],\n",
       "                      [ 0.0235,  0.0278,  0.0027,  ..., -0.0273,  0.0002,  0.0281]])),\n",
       "             ('layer.0.bias',\n",
       "              tensor([ 0.0198, -0.0305,  0.0077, -0.0238,  0.0226,  0.0123,  0.0199, -0.0014,\n",
       "                      -0.0088,  0.0251,  0.0094, -0.0239, -0.0343,  0.0117, -0.0111,  0.0075,\n",
       "                       0.0029, -0.0194, -0.0120, -0.0220,  0.0305, -0.0052, -0.0107, -0.0190,\n",
       "                      -0.0329, -0.0099, -0.0235,  0.0087,  0.0194,  0.0124,  0.0061, -0.0254,\n",
       "                      -0.0213,  0.0210,  0.0137, -0.0120,  0.0306,  0.0203, -0.0288, -0.0329,\n",
       "                      -0.0147,  0.0132,  0.0154,  0.0315, -0.0205, -0.0382,  0.0223, -0.0029,\n",
       "                      -0.0113, -0.0369, -0.0135,  0.0286,  0.0085, -0.0289, -0.0120, -0.0086,\n",
       "                       0.0254, -0.0252, -0.0182, -0.0099, -0.0159,  0.0144,  0.0219,  0.0244,\n",
       "                      -0.0198,  0.0326,  0.0301,  0.0068, -0.0247, -0.0075,  0.0149, -0.0043,\n",
       "                      -0.0198,  0.0227, -0.0155,  0.0262, -0.0070, -0.0285,  0.0071, -0.0361,\n",
       "                      -0.0247,  0.0092,  0.0193, -0.0085,  0.0142,  0.0021,  0.0235,  0.0282])),\n",
       "             ('layer.2.weight',\n",
       "              tensor([[ 0.0687,  0.0530,  0.0156,  ..., -0.0624,  0.0465,  0.0186],\n",
       "                      [-0.0238, -0.0307,  0.0697,  ..., -0.1048,  0.0948, -0.0479],\n",
       "                      [ 0.0755,  0.0384, -0.0698,  ...,  0.0104,  0.0237,  0.0920],\n",
       "                      ...,\n",
       "                      [ 0.0406, -0.0571, -0.1038,  ...,  0.0196, -0.0590, -0.0475],\n",
       "                      [ 0.0205,  0.0561,  0.0728,  ...,  0.0392,  0.0163,  0.0866],\n",
       "                      [-0.0764,  0.0954, -0.0889,  ..., -0.0113,  0.0027, -0.0645]])),\n",
       "             ('layer.2.bias',\n",
       "              tensor([ 0.0511, -0.0196, -0.0086,  0.0987, -0.0557, -0.0164,  0.0822,  0.0972,\n",
       "                      -0.0976, -0.0711, -0.0695,  0.0852, -0.0056,  0.0313,  0.0536,  0.0930,\n",
       "                      -0.0689, -0.0795, -0.0229,  0.0048,  0.0572, -0.0467,  0.0901, -0.0126,\n",
       "                      -0.1016, -0.1052, -0.0647,  0.0650,  0.0284])),\n",
       "             ('layer.4.weight',\n",
       "              tensor([[-1.0674e-02, -1.1888e-01,  4.7018e-02,  1.8141e-01,  1.4853e-01,\n",
       "                       -8.4500e-02, -1.6409e-01,  4.2561e-02,  1.3096e-01,  1.2267e-01,\n",
       "                       -1.4044e-02,  1.8067e-01,  7.6966e-02, -7.8415e-02, -6.7845e-02,\n",
       "                       -1.8265e-01,  6.0497e-02,  9.5272e-02,  1.6097e-01,  1.9142e-01,\n",
       "                       -2.1241e-02, -1.7188e-01,  5.9210e-03,  1.6752e-01, -1.4780e-01,\n",
       "                        1.7515e-01, -1.4174e-01, -7.8611e-02, -2.3062e-02],\n",
       "                      [-8.5832e-02, -1.7989e-01,  1.4879e-01,  1.8129e-01, -1.8793e-03,\n",
       "                        9.2953e-02,  4.4071e-02,  4.6155e-02, -1.9354e-01,  8.5945e-02,\n",
       "                        2.8707e-02,  3.1396e-02,  1.6374e-01, -9.7933e-02, -3.2817e-02,\n",
       "                        5.2899e-02,  1.8536e-01, -1.2037e-01, -1.0504e-01, -1.5719e-01,\n",
       "                       -2.1323e-01,  6.3217e-02, -2.9004e-03,  1.7074e-01, -2.0175e-01,\n",
       "                        2.2058e-01,  1.4736e-01, -9.1483e-02,  1.7434e-01],\n",
       "                      [-4.4256e-02,  1.9911e-01, -1.4078e-01,  1.4058e-01,  1.6188e-01,\n",
       "                        1.5699e-01, -1.3100e-01,  9.2855e-02,  1.7454e-01,  3.7217e-02,\n",
       "                       -5.7491e-02,  1.2470e-01, -1.6942e-02, -7.9424e-03, -3.9076e-02,\n",
       "                        1.7749e-01, -1.6614e-01, -1.0429e-01, -9.2188e-02, -2.1735e-01,\n",
       "                        1.3313e-01, -6.3868e-02,  8.8499e-03, -8.1610e-02,  5.7286e-02,\n",
       "                       -2.2690e-01, -1.8048e-01,  1.1432e-01,  1.5569e-01],\n",
       "                      [ 1.8182e-01,  1.8329e-01, -1.0478e-01,  1.5631e-01,  1.5656e-01,\n",
       "                        2.9135e-02,  1.6877e-01,  1.2822e-01,  9.4853e-02, -1.3480e-01,\n",
       "                       -1.4294e-02, -1.4002e-01, -1.6081e-01, -1.9723e-01,  1.6884e-01,\n",
       "                       -2.6349e-02,  3.3704e-02,  1.5637e-01,  8.2958e-02, -1.8592e-01,\n",
       "                        1.8264e-01, -1.3561e-01, -1.6068e-01, -1.5961e-01, -3.4195e-02,\n",
       "                        6.1265e-02,  1.2995e-01,  1.0803e-01, -2.0234e-01],\n",
       "                      [-1.5132e-01, -1.5661e-01, -5.3112e-02, -3.1437e-02,  4.1356e-02,\n",
       "                        3.5964e-02,  6.0912e-03, -6.5814e-02, -3.2745e-02, -6.9126e-02,\n",
       "                        6.4995e-02, -1.6801e-01,  1.6885e-01, -1.5970e-01,  2.5694e-02,\n",
       "                       -1.0803e-02, -9.1870e-02,  3.6549e-02,  1.7576e-01,  1.4965e-01,\n",
       "                        9.6413e-02,  6.5153e-02,  6.3190e-02,  5.5478e-02, -1.3803e-01,\n",
       "                        1.4164e-01, -1.2517e-01,  1.4418e-01,  1.6140e-01],\n",
       "                      [ 1.1397e-01, -1.5955e-01,  1.0976e-01,  1.8764e-01,  9.9504e-02,\n",
       "                       -3.4515e-02,  1.1860e-02, -1.4234e-01, -1.0915e-01,  1.6856e-01,\n",
       "                        5.7179e-02,  1.3260e-01, -2.2226e-03, -7.4062e-02, -3.6851e-02,\n",
       "                       -7.4319e-02,  2.4001e-01,  1.8436e-01,  7.3665e-02,  1.6544e-01,\n",
       "                       -7.7196e-02, -2.3359e-01,  1.4460e-01,  1.6626e-01, -2.0841e-01,\n",
       "                        1.0755e-01,  7.3993e-02, -1.6947e-01,  9.8874e-02],\n",
       "                      [-1.6195e-01,  6.5774e-02,  1.0678e-01,  4.2726e-02,  4.3913e-02,\n",
       "                        1.6470e-01,  1.9279e-01, -7.5812e-02, -3.2447e-02,  1.5222e-01,\n",
       "                        9.3257e-02,  3.5236e-02,  1.4574e-01,  1.7903e-01,  1.3720e-01,\n",
       "                       -9.5414e-02, -1.2121e-01, -8.3961e-02,  1.4855e-01, -1.4410e-01,\n",
       "                        1.5945e-01, -6.8057e-02, -1.2223e-01,  5.4461e-02,  1.4638e-02,\n",
       "                       -1.3827e-01, -9.6632e-02, -5.1128e-02, -1.6356e-01],\n",
       "                      [ 1.7410e-01, -9.0050e-02, -6.9729e-02,  7.8576e-02, -4.7941e-02,\n",
       "                        1.5414e-02,  2.0429e-02, -5.2997e-02,  1.4247e-01, -1.8307e-01,\n",
       "                        1.0875e-01, -3.3026e-03, -5.0893e-02,  4.8466e-02,  1.0358e-01,\n",
       "                        4.6007e-02, -6.9033e-05, -1.7914e-02, -1.8306e-01, -1.3833e-01,\n",
       "                       -5.6187e-02, -2.0533e-02,  1.6431e-01, -1.4382e-01,  1.9029e-01,\n",
       "                       -1.2147e-01, -6.8981e-03,  1.2197e-01, -1.9090e-01],\n",
       "                      [ 1.9374e-01,  1.2803e-01, -8.6681e-02,  1.1586e-01,  2.1367e-01,\n",
       "                        2.2546e-01,  2.2564e-01, -1.8134e-01, -1.0667e-01, -5.6691e-02,\n",
       "                        1.9816e-01, -1.0479e-01,  2.4713e-02,  1.6036e-01, -9.7227e-02,\n",
       "                        2.0096e-02, -7.8380e-02, -1.5770e-01, -2.1806e-01,  8.5282e-02,\n",
       "                       -4.8766e-02, -1.0353e-01, -1.2470e-01, -5.1157e-02,  1.7297e-01,\n",
       "                       -2.3654e-01, -1.6467e-01,  1.4528e-02, -9.8978e-02],\n",
       "                      [-2.3872e-02,  1.8074e-01, -1.4495e-01,  5.0942e-02,  4.7432e-02,\n",
       "                        8.5760e-02,  1.5779e-01, -9.5907e-02,  9.8015e-02,  1.6274e-02,\n",
       "                       -9.8088e-02,  1.2167e-01,  1.4368e-01,  7.1676e-04,  1.5078e-01,\n",
       "                        3.1349e-02, -1.2126e-01, -1.9936e-01, -9.4051e-02, -2.1766e-01,\n",
       "                        7.8686e-02, -1.2234e-01,  2.4612e-02,  1.0802e-02, -6.5980e-02,\n",
       "                       -9.5653e-02, -2.3815e-02, -1.1023e-01, -1.3604e-01],\n",
       "                      [ 1.0197e-01,  1.4262e-01, -4.3494e-02, -1.3115e-02,  1.0070e-01,\n",
       "                        2.9841e-02,  1.5873e-01, -1.2166e-01, -1.5936e-01,  4.7038e-02,\n",
       "                       -1.4189e-01, -7.8820e-02,  1.1059e-01,  1.8827e-01,  1.6686e-01,\n",
       "                       -1.0396e-01, -1.8949e-01,  1.5092e-01, -1.5722e-01,  8.9155e-02,\n",
       "                        8.9462e-02,  1.1734e-01, -1.1225e-01, -2.0324e-02, -1.1000e-01,\n",
       "                        1.2135e-02, -1.8554e-01, -1.4454e-01, -1.4270e-01],\n",
       "                      [-1.1407e-01,  9.3473e-02,  6.1102e-02,  1.9862e-01,  8.3277e-02,\n",
       "                       -9.9157e-02,  1.0384e-01, -5.5132e-02, -1.2801e-01,  3.3866e-02,\n",
       "                        1.4879e-01,  1.3681e-01,  1.8797e-01,  2.1364e-01,  1.1146e-01,\n",
       "                        3.7716e-03,  8.8227e-02,  1.0037e-01, -1.2241e-01, -1.2470e-01,\n",
       "                       -1.9313e-01,  6.7461e-02,  2.1291e-02,  2.0127e-01, -3.4369e-02,\n",
       "                       -1.4084e-01, -1.8129e-01,  1.0053e-01, -9.3873e-02],\n",
       "                      [-1.2203e-01, -1.1546e-01,  2.8701e-02,  1.5807e-01, -1.0659e-01,\n",
       "                       -6.3866e-02,  1.0726e-02, -1.1561e-01,  7.7992e-02,  2.4887e-02,\n",
       "                       -1.3797e-01, -1.2612e-01, -9.9249e-02,  9.5105e-02, -5.9603e-02,\n",
       "                        2.8606e-02,  1.2550e-01,  2.1170e-01,  1.7363e-01, -5.3963e-02,\n",
       "                        1.0134e-01, -1.8456e-01,  2.3814e-02,  4.1245e-02,  9.1890e-02,\n",
       "                        1.8728e-01,  1.6500e-01,  1.2784e-01,  1.7357e-01],\n",
       "                      [-1.3745e-01,  6.1172e-02, -4.9814e-02, -5.2809e-02, -7.5744e-02,\n",
       "                        2.0776e-01,  1.3305e-01, -1.1680e-01,  2.2442e-02,  1.0274e-02,\n",
       "                       -9.9025e-02,  1.6301e-01,  1.2407e-02,  1.2105e-01,  4.5619e-02,\n",
       "                       -6.6811e-02,  7.1346e-04, -5.2132e-02, -1.7369e-01, -6.4418e-02,\n",
       "                        1.7968e-01, -2.2232e-02, -1.3556e-02,  1.1785e-01,  1.1543e-01,\n",
       "                       -1.8430e-01, -8.5769e-02,  5.4220e-02, -1.3443e-01],\n",
       "                      [ 8.0849e-02, -2.2763e-01,  7.2015e-02,  7.8450e-02, -1.5690e-01,\n",
       "                       -1.8129e-01, -1.3276e-01, -1.2913e-01,  1.2785e-01,  1.4634e-01,\n",
       "                       -1.0767e-01,  2.3200e-02, -2.1464e-02,  7.7415e-02, -1.2533e-01,\n",
       "                        5.9619e-02,  2.2040e-01, -1.4135e-01,  1.3134e-03,  1.1304e-01,\n",
       "                       -1.0306e-01, -2.1821e-02,  1.0262e-02, -2.1804e-02,  6.4117e-02,\n",
       "                        2.2729e-01,  1.4873e-01, -9.3208e-02, -1.2354e-02],\n",
       "                      [ 1.6191e-01,  1.8186e-01,  1.1715e-01, -5.7022e-02, -1.1566e-01,\n",
       "                       -9.1802e-02,  2.1680e-01, -4.2761e-04,  3.1791e-02, -7.2872e-02,\n",
       "                       -1.6811e-01,  1.1768e-01,  5.6525e-02, -1.1834e-01, -8.6770e-02,\n",
       "                        1.2385e-02, -1.8036e-02, -1.8993e-01,  4.3187e-02, -2.2589e-01,\n",
       "                        9.0570e-02,  1.9938e-01, -1.2307e-01, -1.9801e-01,  1.0345e-01,\n",
       "                       -4.4038e-02, -1.2150e-01, -1.0409e-01, -5.7193e-03],\n",
       "                      [-2.7210e-02,  7.0368e-02,  1.4513e-01,  3.5568e-02,  1.1674e-01,\n",
       "                       -1.5924e-01, -5.0179e-02, -5.2183e-02, -1.0195e-01, -1.6356e-01,\n",
       "                        9.0073e-03, -1.7838e-01, -1.7909e-01,  1.5467e-01,  1.1466e-01,\n",
       "                       -1.3311e-01, -1.7771e-02, -6.4720e-02, -1.9898e-01, -5.9588e-02,\n",
       "                        1.4297e-01,  1.0612e-01,  2.8300e-03,  1.5923e-01, -5.2647e-02,\n",
       "                        5.7964e-02,  3.9658e-02, -9.7380e-03, -1.7123e-01]])),\n",
       "             ('layer.4.bias',\n",
       "              tensor([ 0.1298,  0.0284,  0.1648,  0.0391,  0.1482, -0.0683,  0.0907, -0.0062,\n",
       "                       0.0208,  0.0258,  0.1493, -0.0331, -0.0133, -0.1570, -0.0258,  0.0678,\n",
       "                       0.0785])),\n",
       "             ('layer.6.weight',\n",
       "              tensor([[ 0.0508,  0.1558, -0.2318, -0.2338,  0.0066,  0.0062, -0.1828, -0.2726,\n",
       "                       -0.0138,  0.1440, -0.1376,  0.1067,  0.2060, -0.1746, -0.0080,  0.1874,\n",
       "                       -0.0963],\n",
       "                      [-0.3042, -0.0911,  0.3041,  0.2678, -0.1634, -0.3009,  0.2657, -0.0336,\n",
       "                        0.2827,  0.1245, -0.0942, -0.0283, -0.0509,  0.1530, -0.2883,  0.0958,\n",
       "                       -0.0441],\n",
       "                      [-0.0048, -0.2022,  0.2754,  0.0981,  0.0101, -0.1005,  0.0287,  0.1766,\n",
       "                       -0.1340,  0.0209, -0.2263,  0.0925, -0.1069,  0.1629,  0.0878,  0.2375,\n",
       "                       -0.1688],\n",
       "                      [-0.0651,  0.2152, -0.0198,  0.1120,  0.0122,  0.3545, -0.0156, -0.1506,\n",
       "                       -0.2121, -0.3044, -0.2799,  0.0650,  0.2467, -0.1726,  0.2475, -0.2574,\n",
       "                        0.0030],\n",
       "                      [-0.1713, -0.0154, -0.1612,  0.1406, -0.0843, -0.1313,  0.1873, -0.0619,\n",
       "                       -0.2000,  0.1686,  0.0766,  0.2135,  0.1796,  0.0964, -0.2031, -0.1171,\n",
       "                       -0.2082],\n",
       "                      [ 0.2346,  0.1669,  0.1153, -0.2305, -0.1117,  0.2199, -0.1687, -0.1471,\n",
       "                       -0.2046, -0.1817,  0.0043,  0.2000,  0.1504, -0.2205, -0.1415, -0.0843,\n",
       "                        0.2344],\n",
       "                      [-0.0518, -0.2124,  0.1585, -0.1018, -0.0926,  0.0981, -0.0781, -0.0398,\n",
       "                       -0.3063,  0.1820, -0.1136, -0.2426,  0.1094,  0.0558, -0.1647, -0.0433,\n",
       "                       -0.0421],\n",
       "                      [ 0.2291,  0.0428, -0.2520, -0.1391,  0.2173,  0.2018, -0.0797, -0.0781,\n",
       "                       -0.1866,  0.1589, -0.2306,  0.0201,  0.1061, -0.2811,  0.2207, -0.2818,\n",
       "                       -0.0672],\n",
       "                      [-0.0681,  0.0361, -0.1317, -0.0534,  0.0338,  0.1586,  0.1537,  0.0423,\n",
       "                       -0.2295, -0.0405, -0.1168, -0.0043,  0.0801,  0.0676, -0.0422, -0.2386,\n",
       "                       -0.2201],\n",
       "                      [-0.1426,  0.0406, -0.2069, -0.2065,  0.0549, -0.1017,  0.1041, -0.1641,\n",
       "                        0.2955, -0.0468,  0.1558,  0.2598, -0.2510,  0.0446,  0.1140, -0.2554,\n",
       "                        0.1859],\n",
       "                      [ 0.2261,  0.1351, -0.1050, -0.0213, -0.0789,  0.2887, -0.1506, -0.2155,\n",
       "                       -0.2382, -0.2310,  0.0315, -0.0635, -0.0560, -0.2539,  0.2004, -0.2624,\n",
       "                       -0.1882],\n",
       "                      [ 0.1976, -0.0110,  0.1740, -0.0759, -0.2530,  0.0283, -0.1167,  0.0902,\n",
       "                        0.2338,  0.2103,  0.1606,  0.1768, -0.1993, -0.1976,  0.0667,  0.1695,\n",
       "                        0.0014],\n",
       "                      [ 0.0973,  0.0352,  0.2474, -0.0898,  0.1304, -0.1682, -0.2042, -0.0096,\n",
       "                        0.1720,  0.1649, -0.1186,  0.1002, -0.1624, -0.1867, -0.0435,  0.0648,\n",
       "                        0.1499]])),\n",
       "             ('layer.6.bias',\n",
       "              tensor([-0.0807,  0.0204,  0.1913, -0.0482, -0.0169, -0.1857,  0.0435,  0.1142,\n",
       "                       0.0940, -0.1509,  0.0113, -0.0745, -0.1206])),\n",
       "             ('layer.8.weight',\n",
       "              tensor([[-3.3396e-01,  1.3330e-01,  3.1571e-02, -5.9409e-02, -2.3934e-01,\n",
       "                       -2.9517e-01,  6.7775e-02, -1.0380e-02,  2.0208e-02, -2.7248e-01,\n",
       "                       -1.8452e-01,  2.1210e-01,  2.8170e-01],\n",
       "                      [ 2.4247e-01, -2.4245e-01, -3.0394e-01,  2.0046e-01,  4.4072e-02,\n",
       "                        2.4973e-01, -3.0527e-01, -2.2227e-02,  1.0671e-01, -8.6210e-02,\n",
       "                        3.3293e-01, -1.7391e-01, -4.2052e-02],\n",
       "                      [-8.8183e-03, -3.2606e-01, -3.4777e-02,  3.6721e-01,  1.2332e-02,\n",
       "                        2.5990e-01,  2.2972e-01,  7.4407e-02,  1.7730e-01, -6.2477e-02,\n",
       "                        3.3768e-01, -2.5896e-01, -3.4023e-02],\n",
       "                      [-2.4772e-01,  3.4784e-01, -8.2257e-02, -3.0928e-01,  1.6675e-01,\n",
       "                       -1.5869e-01,  1.5850e-01, -2.9581e-01,  1.8972e-01,  2.7000e-01,\n",
       "                       -2.8507e-01,  1.1817e-01,  1.3422e-01],\n",
       "                      [-5.0522e-02,  3.4069e-01,  1.0001e-01, -3.7086e-01,  1.6818e-01,\n",
       "                        5.6581e-02, -8.3431e-02, -1.8347e-01, -3.1078e-01, -1.9686e-01,\n",
       "                       -3.6492e-03, -3.4122e-03, -1.1580e-01],\n",
       "                      [-1.1464e-01, -1.2168e-01,  6.5750e-02, -1.3082e-01,  9.0525e-02,\n",
       "                        2.6438e-01,  2.3114e-01,  2.8400e-01, -9.0729e-02, -3.1338e-01,\n",
       "                        2.8278e-01, -2.1927e-01,  1.8961e-01],\n",
       "                      [-5.0029e-02, -3.2350e-01, -3.1734e-02,  4.4845e-01, -2.9149e-01,\n",
       "                        6.0344e-02,  6.4105e-02, -4.8410e-05,  2.3975e-01, -6.2267e-02,\n",
       "                        1.2418e-01,  1.8386e-01, -2.5674e-01],\n",
       "                      [ 2.6233e-01, -4.8385e-01, -2.0671e-01,  2.2537e-01,  1.3337e-01,\n",
       "                        1.6988e-01,  2.2995e-01,  2.7248e-01,  1.2707e-01,  2.2835e-03,\n",
       "                        3.9402e-01,  2.5836e-02, -6.2256e-02],\n",
       "                      [-3.6325e-02, -2.9269e-01, -2.5184e-01,  3.7497e-01,  4.5373e-02,\n",
       "                        3.1972e-02, -1.7566e-01,  4.4339e-01,  6.7511e-02,  5.0247e-02,\n",
       "                        2.7423e-01,  6.0856e-02,  2.3682e-01],\n",
       "                      [-8.9323e-02,  4.6192e-02,  4.6355e-03, -1.2231e-01, -1.9189e-01,\n",
       "                        3.2006e-01, -1.7933e-01,  1.9609e-01,  2.9372e-03,  3.7445e-01,\n",
       "                        9.8766e-03,  3.0521e-01, -1.5915e-01],\n",
       "                      [-4.8291e-02,  2.1342e-01, -1.7704e-01, -7.7599e-02,  2.0914e-01,\n",
       "                        9.2426e-03, -2.3054e-01, -9.5816e-02, -8.8850e-02,  2.4829e-01,\n",
       "                       -2.0484e-01,  3.0324e-01,  1.7340e-01]])),\n",
       "             ('layer.8.bias',\n",
       "              tensor([-0.1465, -0.1888, -0.1880, -0.0494, -0.1136, -0.0749, -0.0679,  0.1813,\n",
       "                       0.1834,  0.0119,  0.2135])),\n",
       "             ('layer.10.weight',\n",
       "              tensor([[-0.2249,  0.2602,  0.2282, -0.2102, -0.1826,  0.1318,  0.2418,  0.0617,\n",
       "                        0.2362,  0.2322, -0.1806],\n",
       "                      [-0.3326,  0.3704,  0.1822,  0.0389, -0.3498,  0.0358,  0.3220,  0.1655,\n",
       "                        0.1749, -0.0774, -0.0129],\n",
       "                      [-0.3471, -0.1251,  0.1252,  0.0568, -0.2003,  0.4341,  0.3293,  0.2747,\n",
       "                        0.4368, -0.2173, -0.1680],\n",
       "                      [-0.2519,  0.2283,  0.0272, -0.2986, -0.1570, -0.0285,  0.0234,  0.5111,\n",
       "                        0.2261,  0.2909, -0.0762],\n",
       "                      [-0.0053,  0.2842, -0.0136, -0.4922, -0.2196, -0.1166,  0.3043,  0.4290,\n",
       "                        0.1359, -0.2998, -0.1321],\n",
       "                      [ 0.2549, -0.2299, -0.3598,  0.4416,  0.0809, -0.2966, -0.0985, -0.2926,\n",
       "                       -0.4051, -0.3051,  0.0424],\n",
       "                      [ 0.1221,  0.0330,  0.1158, -0.4261,  0.1202,  0.2147,  0.2089,  0.4851,\n",
       "                        0.2579, -0.0229, -0.2384],\n",
       "                      [-0.0231, -0.1603, -0.3644,  0.4734,  0.1030, -0.3260, -0.1481, -0.4235,\n",
       "                        0.0439,  0.3091,  0.4031],\n",
       "                      [ 0.1311, -0.2971, -0.5327,  0.3417,  0.0937,  0.1084, -0.0532, -0.1725,\n",
       "                       -0.3648,  0.0508,  0.2552],\n",
       "                      [-0.0517, -0.5179, -0.5127,  0.1228,  0.3671, -0.0275, -0.0519, -0.5299,\n",
       "                       -0.1992, -0.2999, -0.2079]])),\n",
       "             ('layer.10.bias',\n",
       "              tensor([-0.0615, -0.0717, -0.0883, -0.1281, -0.1413,  0.0646,  0.0623, -0.1948,\n",
       "                       0.1387, -0.1574]))])"
      ]
     },
     "execution_count": 340,
     "metadata": {},
     "output_type": "execute_result"
    }
   ],
   "source": [
    "MODEL.state_dict() # 매개변수를 부를 수 있다 "
   ]
  },
  {
   "cell_type": "code",
   "execution_count": null,
   "metadata": {},
   "outputs": [],
   "source": []
  }
 ],
 "metadata": {
  "kernelspec": {
   "display_name": "TORCH_PY38",
   "language": "python",
   "name": "python3"
  },
  "language_info": {
   "codemirror_mode": {
    "name": "ipython",
    "version": 3
   },
   "file_extension": ".py",
   "mimetype": "text/x-python",
   "name": "python",
   "nbconvert_exporter": "python",
   "pygments_lexer": "ipython3",
   "version": "3.8.18"
  }
 },
 "nbformat": 4,
 "nbformat_minor": 2
}
