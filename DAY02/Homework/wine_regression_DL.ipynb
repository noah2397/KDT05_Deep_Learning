{
 "cells": [
  {
   "cell_type": "code",
   "execution_count": 53,
   "metadata": {},
   "outputs": [
    {
     "data": {
      "text/plain": [
       "(torch.float32, torch.float32)"
      ]
     },
     "execution_count": 53,
     "metadata": {},
     "output_type": "execute_result"
    }
   ],
   "source": [
    "import pandas as pd\n",
    "import torch\n",
    "import torch.nn as nn              \n",
    "import torch.nn.functional as F       \n",
    "import torch.optim as optim      \n",
    "\n",
    "\n",
    "      \n",
    "df=pd.read_csv(\"https://archive.ics.uci.edu/ml/machine-learning-databases/wine-quality/winequality-white.csv\", sep=\";\")\n",
    "feature=torch.tensor(df[df.columns[:-1]].values).float()\n",
    "target=torch.tensor(df[df.columns[-1]].values).float()\n",
    "feature.dtype, target.dtype"
   ]
  },
  {
   "cell_type": "code",
   "execution_count": 54,
   "metadata": {},
   "outputs": [
    {
     "data": {
      "text/plain": [
       "<torch._C.Generator at 0x23c34a21810>"
      ]
     },
     "execution_count": 54,
     "metadata": {},
     "output_type": "execute_result"
    }
   ],
   "source": [
    "torch.manual_seed(0)"
   ]
  },
  {
   "cell_type": "code",
   "execution_count": 55,
   "metadata": {},
   "outputs": [
    {
     "data": {
      "text/plain": [
       "(torch.float32, torch.float32)"
      ]
     },
     "execution_count": 55,
     "metadata": {},
     "output_type": "execute_result"
    }
   ],
   "source": [
    "W = torch.zeros((11,1),requires_grad=True).float()\n",
    "b = torch.zeros(1,requires_grad=True).float()\n",
    "\n",
    "optimizer=optim.SGD([W,b],lr=1e-5)\n",
    "W.dtype, b.dtype"
   ]
  },
  {
   "cell_type": "code",
   "execution_count": 56,
   "metadata": {},
   "outputs": [
    {
     "name": "stdout",
     "output_type": "stream",
     "text": [
      "Epoch 0, Cost: 35.334014892578125\n",
      "Epoch 1, Cost: 13.272674560546875\n",
      "Epoch 2, Cost: 6.604522705078125\n",
      "Epoch 3, Cost: 4.5880045890808105\n",
      "Epoch 4, Cost: 3.9771533012390137\n",
      "Epoch 5, Cost: 3.7910773754119873\n",
      "Epoch 6, Cost: 3.733365297317505\n",
      "Epoch 7, Cost: 3.714444875717163\n",
      "Epoch 8, Cost: 3.707247018814087\n",
      "Epoch 9, Cost: 3.7035937309265137\n",
      "Epoch 10, Cost: 3.701011896133423\n",
      "Epoch 11, Cost: 3.6987569332122803\n",
      "Epoch 12, Cost: 3.6966004371643066\n",
      "Epoch 13, Cost: 3.6944751739501953\n",
      "Epoch 14, Cost: 3.692361354827881\n",
      "Epoch 15, Cost: 3.690251588821411\n",
      "Epoch 16, Cost: 3.688145399093628\n",
      "Epoch 17, Cost: 3.686040163040161\n",
      "Epoch 18, Cost: 3.6839375495910645\n",
      "Epoch 19, Cost: 3.6818363666534424\n",
      "Epoch 20, Cost: 3.6797373294830322\n",
      "Epoch 21, Cost: 3.677640438079834\n",
      "Epoch 22, Cost: 3.675544500350952\n",
      "Epoch 23, Cost: 3.6734516620635986\n",
      "Epoch 24, Cost: 3.6713595390319824\n",
      "Epoch 25, Cost: 3.6692698001861572\n",
      "Epoch 26, Cost: 3.6671814918518066\n",
      "Epoch 27, Cost: 3.665095806121826\n",
      "Epoch 28, Cost: 3.663011312484741\n",
      "Epoch 29, Cost: 3.6609292030334473\n",
      "Epoch 30, Cost: 3.6588480472564697\n",
      "Epoch 31, Cost: 3.6567695140838623\n",
      "Epoch 32, Cost: 3.6546921730041504\n",
      "Epoch 33, Cost: 3.6526167392730713\n",
      "Epoch 34, Cost: 3.650543689727783\n",
      "Epoch 35, Cost: 3.6484720706939697\n",
      "Epoch 36, Cost: 3.646402359008789\n",
      "Epoch 37, Cost: 3.644334554672241\n",
      "Epoch 38, Cost: 3.642267942428589\n",
      "Epoch 39, Cost: 3.6402034759521484\n",
      "Epoch 40, Cost: 3.638140916824341\n",
      "Epoch 41, Cost: 3.636080265045166\n",
      "Epoch 42, Cost: 3.634021043777466\n",
      "Epoch 43, Cost: 3.6319637298583984\n",
      "Epoch 44, Cost: 3.629908800125122\n",
      "Epoch 45, Cost: 3.627854585647583\n",
      "Epoch 46, Cost: 3.625802993774414\n",
      "Epoch 47, Cost: 3.6237528324127197\n",
      "Epoch 48, Cost: 3.621704339981079\n",
      "Epoch 49, Cost: 3.6196579933166504\n"
     ]
    }
   ],
   "source": [
    "for epoch in range(50):\n",
    "    hypothesis=feature.matmul(W)+b\n",
    "    cost=torch.mean((hypothesis-target)**2)\n",
    "    optimizer.zero_grad()\n",
    "    cost.backward()\n",
    "    optimizer.step()\n",
    "    print(f\"Epoch {epoch}, Cost: {cost.item()}\")"
   ]
  },
  {
   "cell_type": "code",
   "execution_count": 57,
   "metadata": {},
   "outputs": [
    {
     "data": {
      "text/html": [
       "<div>\n",
       "<style scoped>\n",
       "    .dataframe tbody tr th:only-of-type {\n",
       "        vertical-align: middle;\n",
       "    }\n",
       "\n",
       "    .dataframe tbody tr th {\n",
       "        vertical-align: top;\n",
       "    }\n",
       "\n",
       "    .dataframe thead th {\n",
       "        text-align: right;\n",
       "    }\n",
       "</style>\n",
       "<table border=\"1\" class=\"dataframe\">\n",
       "  <thead>\n",
       "    <tr style=\"text-align: right;\">\n",
       "      <th></th>\n",
       "      <th>fixed acidity</th>\n",
       "      <th>volatile acidity</th>\n",
       "      <th>citric acid</th>\n",
       "      <th>residual sugar</th>\n",
       "      <th>chlorides</th>\n",
       "      <th>free sulfur dioxide</th>\n",
       "      <th>total sulfur dioxide</th>\n",
       "      <th>density</th>\n",
       "      <th>pH</th>\n",
       "      <th>sulphates</th>\n",
       "      <th>alcohol</th>\n",
       "      <th>quality</th>\n",
       "    </tr>\n",
       "  </thead>\n",
       "  <tbody>\n",
       "    <tr>\n",
       "      <th>0</th>\n",
       "      <td>7.0</td>\n",
       "      <td>0.27</td>\n",
       "      <td>0.36</td>\n",
       "      <td>20.7</td>\n",
       "      <td>0.045</td>\n",
       "      <td>45.0</td>\n",
       "      <td>170.0</td>\n",
       "      <td>1.001</td>\n",
       "      <td>3.0</td>\n",
       "      <td>0.45</td>\n",
       "      <td>8.8</td>\n",
       "      <td>6</td>\n",
       "    </tr>\n",
       "  </tbody>\n",
       "</table>\n",
       "</div>"
      ],
      "text/plain": [
       "   fixed acidity  volatile acidity  citric acid  residual sugar  chlorides  \\\n",
       "0            7.0              0.27         0.36            20.7      0.045   \n",
       "\n",
       "   free sulfur dioxide  total sulfur dioxide  density   pH  sulphates  \\\n",
       "0                 45.0                 170.0    1.001  3.0       0.45   \n",
       "\n",
       "   alcohol  quality  \n",
       "0      8.8        6  "
      ]
     },
     "execution_count": 57,
     "metadata": {},
     "output_type": "execute_result"
    }
   ],
   "source": [
    "df.head(1)"
   ]
  },
  {
   "cell_type": "code",
   "execution_count": 58,
   "metadata": {},
   "outputs": [
    {
     "data": {
      "text/plain": [
       "(torch.Size([1, 11]), torch.Size([11, 1]), torch.Size([1]))"
      ]
     },
     "execution_count": 58,
     "metadata": {},
     "output_type": "execute_result"
    }
   ],
   "source": [
    "# 예측하기\n",
    "# 첫번째 행을 갖고옴 => 타겟 값(quality) : 6\n",
    "ex=torch.tensor(df.iloc[0,:-1].values).float()\n",
    "ex.unsqueeze_(0)\n",
    "ex.shape, W.shape, b.shape"
   ]
  },
  {
   "cell_type": "code",
   "execution_count": 59,
   "metadata": {},
   "outputs": [
    {
     "data": {
      "text/plain": [
       "tensor([[6.6064]], grad_fn=<AddBackward0>)"
      ]
     },
     "execution_count": 59,
     "metadata": {},
     "output_type": "execute_result"
    }
   ],
   "source": [
    "ex.matmul(W)+b # 6과 비슷한 값이 나왔다! 야호! 회귀 성공(인가?)~!"
   ]
  },
  {
   "cell_type": "code",
   "execution_count": null,
   "metadata": {},
   "outputs": [],
   "source": []
  }
 ],
 "metadata": {
  "kernelspec": {
   "display_name": "Torch_PY38",
   "language": "python",
   "name": "python3"
  },
  "language_info": {
   "codemirror_mode": {
    "name": "ipython",
    "version": 3
   },
   "file_extension": ".py",
   "mimetype": "text/x-python",
   "name": "python",
   "nbconvert_exporter": "python",
   "pygments_lexer": "ipython3",
   "version": "3.8.18"
  }
 },
 "nbformat": 4,
 "nbformat_minor": 2
}
