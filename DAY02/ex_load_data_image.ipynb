{
 "cells": [
  {
   "cell_type": "code",
   "execution_count": 5,
   "metadata": {},
   "outputs": [],
   "source": [
    "# 모듈로딩\n",
    "# https://github.com/imageio/imageio\n",
    "import imageio.v2 as imageio\n",
    "import torch   "
   ]
  },
  {
   "cell_type": "code",
   "execution_count": 6,
   "metadata": {},
   "outputs": [],
   "source": [
    "img_data=imageio.imread(\"./img.jpg\")"
   ]
  },
  {
   "cell_type": "code",
   "execution_count": 7,
   "metadata": {},
   "outputs": [
    {
     "name": "stdout",
     "output_type": "stream",
     "text": [
      "(1031, 773, 3) 3\n"
     ]
    }
   ],
   "source": [
    "print(img_data.shape, img_data.ndim)"
   ]
  },
  {
   "cell_type": "code",
   "execution_count": 8,
   "metadata": {},
   "outputs": [
    {
     "name": "stdout",
     "output_type": "stream",
     "text": [
      "torch.Size([1031, 773, 3]) 3\n",
      "torch.Size([1031, 773, 3]) 3\n",
      "torch.Size([1031, 773, 3]) 3\n"
     ]
    }
   ],
   "source": [
    "img_t1=torch.tensor(img_data)\n",
    "img_t2=torch.from_numpy(img_data)\n",
    "img_t3=torch.as_tensor(img_data)\n",
    "print(img_t1.shape, img_t1.ndim)\n",
    "print(img_t2.shape, img_t2.ndim)\n",
    "print(img_t3.shape, img_t3.ndim)\n",
    "# 열, 너비, 채널 순으로 출력됨"
   ]
  },
  {
   "cell_type": "code",
   "execution_count": 10,
   "metadata": {},
   "outputs": [
    {
     "data": {
      "text/plain": [
       "torch.Size([3, 1031, 773])"
      ]
     },
     "execution_count": 10,
     "metadata": {},
     "output_type": "execute_result"
    }
   ],
   "source": [
    "# 행(높이), 열(너비), 채널 => 채널, 행, 열로 변경\n",
    "img=img_t1.permute(2,0,1)\n",
    "img.shape"
   ]
  },
  {
   "cell_type": "code",
   "execution_count": null,
   "metadata": {},
   "outputs": [],
   "source": [
    "# batch사이즈가 3이다 : 3개의 이미지를 처리한다\n",
    "# 124~128p 하기 (과제)"
   ]
  }
 ],
 "metadata": {
  "kernelspec": {
   "display_name": "Torch_PY38",
   "language": "python",
   "name": "python3"
  },
  "language_info": {
   "codemirror_mode": {
    "name": "ipython",
    "version": 3
   },
   "file_extension": ".py",
   "mimetype": "text/x-python",
   "name": "python",
   "nbconvert_exporter": "python",
   "pygments_lexer": "ipython3",
   "version": "3.8.18"
  }
 },
 "nbformat": 4,
 "nbformat_minor": 2
}
