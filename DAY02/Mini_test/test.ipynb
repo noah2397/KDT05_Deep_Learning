{
 "cells": [
  {
   "cell_type": "code",
   "execution_count": null,
   "metadata": {},
   "outputs": [],
   "source": [
    "# 1. 화면상에서 Pytorch에서 데이터를 저장하는 단위는 \"텐서\"입니다\n",
    "# 2. 텐서는 다차원 데이터를 담는 수학 객체이고, 모델 입력과 출력에 사용된다\n",
    "     #NumPy와 유사하고, CPU와 GPU를 사용할 때 텐서 선언 방식이 다르다!"
   ]
  },
  {
   "cell_type": "code",
   "execution_count": 1,
   "metadata": {},
   "outputs": [],
   "source": [
    "# 3. 정수형 데이터를 저장하는 데이터 타입 : \n",
    "# 8bit unsigned integer (Byte Tensor)\n",
    "# 8bit integer (Char Tensor)\n",
    "# 16bit integer (Short Tensor)\n",
    "# 32bit integer (Int Tensor)\n",
    "# 64bit integer (Long Tensor)"
   ]
  },
  {
   "cell_type": "code",
   "execution_count": 3,
   "metadata": {},
   "outputs": [
    {
     "name": "stdout",
     "output_type": "stream",
     "text": [
      "data => tensor([ True,  True,  True,  True, False,  True, False])\n",
      "shape => torch.Size([7])\n",
      "ndim => 1\n",
      "type=> torch.bool\n",
      "device => cpu\n",
      "requres_grad => False\n",
      "is_floating_point => <built-in method is_floating_point of Tensor object at 0x000001C5F72583B0>\n"
     ]
    }
   ],
   "source": [
    "# 4. \n",
    "import torch\n",
    "t=torch.BoolTensor([10,-5,1.4,7,0,-1,0])\n",
    "#t의 모든 속성값을 출력\n",
    "print(f'data => {t.data}')\n",
    "print(f'shape => {t.shape}')\n",
    "print(f'ndim => {t.ndim}')\n",
    "print(f'type=> {t.dtype}')\n",
    "print(f'device => {t.device}')\n",
    "print(f'requres_grad => {t.requires_grad}')\n",
    "print(f'is_floating_point => {t.is_floating_point}')"
   ]
  },
  {
   "cell_type": "code",
   "execution_count": 12,
   "metadata": {},
   "outputs": [
    {
     "data": {
      "text/plain": [
       "tensor([[0.],\n",
       "        [0.],\n",
       "        [0.],\n",
       "        [0.],\n",
       "        [0.],\n",
       "        [0.],\n",
       "        [0.],\n",
       "        [0.],\n",
       "        [0.],\n",
       "        [0.]])"
      ]
     },
     "execution_count": 12,
     "metadata": {},
     "output_type": "execute_result"
    }
   ],
   "source": [
    "# 5.\n",
    "t=torch.Tensor([0 for _ in range(10)])\n",
    "t=t.unsqueeze(-1)\n",
    "t"
   ]
  },
  {
   "cell_type": "code",
   "execution_count": 11,
   "metadata": {},
   "outputs": [
    {
     "data": {
      "text/plain": [
       "tensor([[1., 0., 0., 0., 0.],\n",
       "        [0., 1., 0., 0., 0.],\n",
       "        [0., 0., 1., 0., 0.],\n",
       "        [0., 0., 0., 1., 0.],\n",
       "        [0., 0., 0., 0., 1.]])"
      ]
     },
     "execution_count": 11,
     "metadata": {},
     "output_type": "execute_result"
    }
   ],
   "source": [
    "# 6. 5개의 1데이터가 대각선으로 저장되는 2차원 저장 코드를 작성하세요\n",
    "t=torch.eye(5)\n",
    "t"
   ]
  },
  {
   "cell_type": "code",
   "execution_count": 13,
   "metadata": {},
   "outputs": [
    {
     "data": {
      "text/plain": [
       "tensor([[3.],\n",
       "        [3.],\n",
       "        [3.],\n",
       "        [3.],\n",
       "        [3.],\n",
       "        [3.],\n",
       "        [3.],\n",
       "        [3.],\n",
       "        [3.],\n",
       "        [3.]])"
      ]
     },
     "execution_count": 13,
     "metadata": {},
     "output_type": "execute_result"
    }
   ],
   "source": [
    "# 7. 5번에서 저장된 형태와 동일하지만, 값이 3이 저장된 코드를 작성하시오 \n",
    "torch.full_like(t,3)"
   ]
  },
  {
   "cell_type": "code",
   "execution_count": 18,
   "metadata": {},
   "outputs": [
    {
     "data": {
      "text/plain": [
       "(torch.float32,\n",
       " tensor([ 7., 14., 21., 28., 35., 42., 49., 56., 63., 70., 77., 84., 91., 98.]))"
      ]
     },
     "execution_count": 18,
     "metadata": {},
     "output_type": "execute_result"
    }
   ],
   "source": [
    "# 8. ndarray데이터를 Pytorch에 저장하는 코드를 작성하세요\n",
    "import numpy as np\n",
    "data=np.array(range(7,100,7))\n",
    "t=torch.from_numpy(data).type(torch.FloatTensor)\n",
    "t.dtype, t.data"
   ]
  },
  {
   "cell_type": "code",
   "execution_count": 20,
   "metadata": {},
   "outputs": [
    {
     "data": {
      "text/plain": [
       "(tensor([[[255., 255., 255.],\n",
       "          [255., 255., 255.],\n",
       "          [255., 255., 255.],\n",
       "          ...,\n",
       "          [255., 255., 255.],\n",
       "          [255., 255., 255.],\n",
       "          [255., 255., 255.]],\n",
       " \n",
       "         [[255., 255., 255.],\n",
       "          [255., 255., 255.],\n",
       "          [255., 255., 255.],\n",
       "          ...,\n",
       "          [255., 255., 255.],\n",
       "          [255., 255., 255.],\n",
       "          [255., 255., 255.]],\n",
       " \n",
       "         [[255., 255., 255.],\n",
       "          [255., 255., 255.],\n",
       "          [255., 255., 255.],\n",
       "          ...,\n",
       "          [255., 255., 255.],\n",
       "          [255., 255., 255.],\n",
       "          [255., 255., 255.]],\n",
       " \n",
       "         ...,\n",
       " \n",
       "         [[255., 255., 255.],\n",
       "          [255., 255., 255.],\n",
       "          [255., 255., 255.],\n",
       "          ...,\n",
       "          [255., 255., 255.],\n",
       "          [255., 255., 255.],\n",
       "          [255., 255., 255.]],\n",
       " \n",
       "         [[255., 255., 255.],\n",
       "          [255., 255., 255.],\n",
       "          [255., 255., 255.],\n",
       "          ...,\n",
       "          [255., 255., 255.],\n",
       "          [255., 255., 255.],\n",
       "          [255., 255., 255.]],\n",
       " \n",
       "         [[255., 255., 255.],\n",
       "          [255., 255., 255.],\n",
       "          [255., 255., 255.],\n",
       "          ...,\n",
       "          [255., 255., 255.],\n",
       "          [255., 255., 255.],\n",
       "          [255., 255., 255.]]]),\n",
       " 3)"
      ]
     },
     "execution_count": 20,
     "metadata": {},
     "output_type": "execute_result"
    }
   ],
   "source": [
    "# 9. 아래 조건에 맞는 데이터르르 Pytorch 에 저장하는 코드를 작성하세요\n",
    "# 이미지 파일 : flower.jpg 파일\n",
    "# 이미지를 3차원 텐서로 저장\n",
    "\n",
    "from PIL import Image\n",
    "img=Image.open('flower.jpg')\n",
    "t=torch.Tensor(np.array(img))\n",
    "t.data, t.ndim"
   ]
  },
  {
   "cell_type": "code",
   "execution_count": 28,
   "metadata": {},
   "outputs": [
    {
     "data": {
      "text/plain": [
       "tensor([[[2],\n",
       "         [8],\n",
       "         [5],\n",
       "         [1],\n",
       "         [4],\n",
       "         [2],\n",
       "         [7],\n",
       "         [5],\n",
       "         [9],\n",
       "         [2]]])"
      ]
     },
     "execution_count": 28,
     "metadata": {},
     "output_type": "execute_result"
    }
   ],
   "source": [
    "# 10. 임의의 정수 10개\n",
    "data=torch.randint(0,10,(10,)) # 10개 저장\n",
    "data=data.unsqueeze(0)\n",
    "data=data.unsqueeze(0)\n",
    "data.transpose(1,2)  # 차원 2개를 바꿈\n"
   ]
  },
  {
   "cell_type": "code",
   "execution_count": 29,
   "metadata": {},
   "outputs": [
    {
     "data": {
      "text/plain": [
       "tensor([[[2],\n",
       "         [8],\n",
       "         [5],\n",
       "         [1],\n",
       "         [4],\n",
       "         [2],\n",
       "         [7],\n",
       "         [5],\n",
       "         [9],\n",
       "         [2]]])"
      ]
     },
     "execution_count": 29,
     "metadata": {},
     "output_type": "execute_result"
    }
   ],
   "source": [
    "data.permute(0,2,1)  # 차원 3개를 바꿈"
   ]
  },
  {
   "cell_type": "code",
   "execution_count": 41,
   "metadata": {},
   "outputs": [
    {
     "data": {
      "text/plain": [
       "tensor([240., 250., 264.])"
      ]
     },
     "execution_count": 41,
     "metadata": {},
     "output_type": "execute_result"
    }
   ],
   "source": [
    "# 11. 아래 조건에 맞도록 코드를 작성하세요\n",
    "data=torch.tensor([[90,70,80],[70,100,80],[99,88,77]], dtype=torch.float32)\n",
    "# 과목별 합계\n",
    "data.sum(dim=1)"
   ]
  },
  {
   "cell_type": "code",
   "execution_count": 42,
   "metadata": {},
   "outputs": [
    {
     "data": {
      "text/plain": [
       "tensor([ 90., 100.,  99.])"
      ]
     },
     "execution_count": 42,
     "metadata": {},
     "output_type": "execute_result"
    }
   ],
   "source": [
    "# 과목별 최고점수\n",
    "data.max(dim=1)[0]"
   ]
  },
  {
   "cell_type": "code",
   "execution_count": 43,
   "metadata": {},
   "outputs": [
    {
     "data": {
      "text/plain": [
       "tensor(83.7778)"
      ]
     },
     "execution_count": 43,
     "metadata": {},
     "output_type": "execute_result"
    }
   ],
   "source": [
    "# 과목별 평균\n",
    "data.mean()"
   ]
  },
  {
   "cell_type": "code",
   "execution_count": 44,
   "metadata": {},
   "outputs": [
    {
     "data": {
      "text/plain": [
       "tensor([259., 258., 237.])"
      ]
     },
     "execution_count": 44,
     "metadata": {},
     "output_type": "execute_result"
    }
   ],
   "source": [
    "# 한 사람의 점수 합계\n",
    "data.sum(dim=0)"
   ]
  },
  {
   "cell_type": "code",
   "execution_count": 45,
   "metadata": {},
   "outputs": [
    {
     "data": {
      "text/plain": [
       "tensor([86.3333, 86.0000, 79.0000])"
      ]
     },
     "execution_count": 45,
     "metadata": {},
     "output_type": "execute_result"
    }
   ],
   "source": [
    "# 한 사람의 점수 평균\n",
    "data.mean(dim=0)"
   ]
  },
  {
   "cell_type": "code",
   "execution_count": 47,
   "metadata": {},
   "outputs": [
    {
     "data": {
      "text/plain": [
       "tensor([ 99., 100.,  80.])"
      ]
     },
     "execution_count": 47,
     "metadata": {},
     "output_type": "execute_result"
    }
   ],
   "source": [
    "# 한 사람의 최고점수\n",
    "data.max(dim=0)[0]"
   ]
  },
  {
   "cell_type": "code",
   "execution_count": 52,
   "metadata": {},
   "outputs": [
    {
     "name": "stdout",
     "output_type": "stream",
     "text": [
      "더하기 : tensor([[ 90.5000,  70.2000,  80.7000],\n",
      "        [ 70.5000, 100.2000,  80.7000],\n",
      "        [ 99.5000,  88.2000,  77.7000]])\n",
      "\n",
      "빼기 : tensor([[89.5000, 69.8000, 79.3000],\n",
      "        [69.5000, 99.8000, 79.3000],\n",
      "        [98.5000, 87.8000, 76.3000]])\n",
      "\n",
      "나누기 : tensor([[180.0000, 350.0000, 114.2857],\n",
      "        [140.0000, 500.0000, 114.2857],\n",
      "        [198.0000, 440.0000, 110.0000]])\n",
      "\n",
      "곱하기 : tensor([[45.0000, 14.0000, 56.0000],\n",
      "        [35.0000, 20.0000, 56.0000],\n",
      "        [49.5000, 17.6000, 53.9000]])\n",
      "\n"
     ]
    }
   ],
   "source": [
    "# 12. 아래 조건에 맞도록 코드를 작성하세요\n",
    "# data : 3행 3열, data2 : 1행 3열 텐서를 생성하고, 사칙연산 결과를 출력하세요\n",
    "\n",
    "data2=torch.tensor([0.5,0.2,0.7])\n",
    "# 사칙연산 결과\n",
    "print(f\"더하기 : {data+data2}\\n\")\n",
    "print(f\"빼기 : {data-data2}\\n\")\n",
    "print(f\"나누기 : {data/data2}\\n\")\n",
    "print(f\"곱하기 : {data*data2}\\n\")"
   ]
  },
  {
   "cell_type": "code",
   "execution_count": 50,
   "metadata": {},
   "outputs": [
    {
     "data": {
      "text/plain": [
       "tensor([115., 111., 121.])"
      ]
     },
     "execution_count": 50,
     "metadata": {},
     "output_type": "execute_result"
    }
   ],
   "source": [
    "data.matmul(data2)"
   ]
  },
  {
   "cell_type": "code",
   "execution_count": null,
   "metadata": {},
   "outputs": [],
   "source": []
  }
 ],
 "metadata": {
  "kernelspec": {
   "display_name": "Torch_PY38",
   "language": "python",
   "name": "python3"
  },
  "language_info": {
   "codemirror_mode": {
    "name": "ipython",
    "version": 3
   },
   "file_extension": ".py",
   "mimetype": "text/x-python",
   "name": "python",
   "nbconvert_exporter": "python",
   "pygments_lexer": "ipython3",
   "version": "3.8.18"
  }
 },
 "nbformat": 4,
 "nbformat_minor": 2
}
