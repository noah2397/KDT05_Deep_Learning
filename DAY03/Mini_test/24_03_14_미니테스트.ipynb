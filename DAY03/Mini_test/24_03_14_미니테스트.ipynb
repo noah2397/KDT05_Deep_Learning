{
 "cells": [
  {
   "cell_type": "markdown",
   "metadata": {},
   "source": [
    "#### [ 미니 테스트  2024-03-14 ]<hr>"
   ]
  },
  {
   "cell_type": "markdown",
   "metadata": {},
   "source": [
    "[1] 지도학습에 대한 설명과 종류에 대해서 간략하게 설명해 주세요."
   ]
  },
  {
   "cell_type": "markdown",
   "metadata": {},
   "source": [
    "훈련 데이터와 결과값을 주어, 결괏값에 대한 분류나 회귀를 수행하는 학습이다\n",
    "종류 : 의사결정나무, KNN, SVM, Lidge, Lasso, 앙상블 등등 많다! "
   ]
  },
  {
   "cell_type": "markdown",
   "metadata": {},
   "source": [
    "[2] 지도학습의 학습 프로세스를 간략하게 설명해 주세요."
   ]
  },
  {
   "cell_type": "markdown",
   "metadata": {},
   "source": [
    "처음의 가중치(W)와 b(절편)을 바탕으로 결과의 예측값을 구한 후에,\n",
    "그 예측값과 실제 결과의 차이를 바탕으로\n",
    "손실함수를 통해 손실을 구하고(MSE = (y_pre-y_train)**2), \n",
    "해당 값을 미분하여 learning_rate*미분값의 형태로\n",
    "누적해서 가중치와 절편을 더하게 된다\n",
    "\n",
    "이 한번의 과정을 EPOCH라고 하고, EPOCH를 많이 거칠수록 손실함수가 적어짐과 동시에 정확성이 올라간다 "
   ]
  },
  {
   "cell_type": "markdown",
   "metadata": {},
   "source": [
    "[3] 선형회귀 대해 간략하게 설명해주세요.  \n",
    "    - 개념  \n",
    "    - 조건  \n",
    "    - 동작원리  \n",
    "    - 선형식  \n",
    "    - 오차/잔차 계산 방법  "
   ]
  },
  {
   "cell_type": "markdown",
   "metadata": {},
   "source": [
    "종속변수 y에 대해, 독립변수 x와의 상관관계를 직선관계로 근사하게 표현하는 것을 뜻한다\n",
    "조건 : 종속변수와 독립변수들 간 관계가 있어야 한다\n",
    "동작원리 : 2번 문제의 내용과 동일하다\n",
    "선형식 : y=wx+b\n",
    "오차/잔차 계산 방법 : 2번 문제의 내용과 동일하다,MSE"
   ]
  },
  {
   "cell_type": "markdown",
   "metadata": {},
   "source": [
    "[4] 로지스틱회귀 대해 간략하게 설명해주세요.  \n",
    "   - 개념  \n",
    "   - 조건  \n",
    "   - 동작원리  \n",
    "   - 선형식  \n",
    "   - 오차/잔차 계산 방법  "
   ]
  },
  {
   "cell_type": "markdown",
   "metadata": {},
   "source": [
    " 개념 : 활성화 함수를 이용하여, 데이터 값을 분류하는 모델을 뜻한다\n",
    " 조건 : \n",
    " 동작원리 : \n",
    " 선형식 :\n",
    " 오차/잔차 계산 방법 : "
   ]
  },
  {
   "cell_type": "markdown",
   "metadata": {},
   "source": [
    "[5] Fashion MNIST 데이터셋에서 10개 카테고리 중 하나를 선택해서 2진 분류로 구현해 주세요.  \n",
    "- 데이터셋 : scikit-learn의 datasets 사용\n",
    "    - from sklearn.datasets import fetch_openml \n",
    "    - db_name = 'Fashion-MNIST'\n",
    "    - fashion_data = fetch_openml(name=db_name, parser='auto')"
   ]
  },
  {
   "cell_type": "code",
   "execution_count": 19,
   "metadata": {},
   "outputs": [
    {
     "name": "stderr",
     "output_type": "stream",
     "text": [
      "c:\\Users\\mathn\\.conda\\envs\\Torch_PY38\\lib\\site-packages\\sklearn\\datasets\\_openml.py:1002: FutureWarning: The default value of `parser` will change from `'liac-arff'` to `'auto'` in 1.4. You can set `parser='auto'` to silence this warning. Therefore, an `ImportError` will be raised from 1.4 if the dataset is dense and pandas is not installed. Note that the pandas parser may return different data types. See the Notes Section in fetch_openml's API doc for details.\n",
      "  warn(\n"
     ]
    }
   ],
   "source": [
    "from sklearn.datasets import fetch_openml\n",
    "db = fetch_openml('Fashion-MNIST', version=1)"
   ]
  },
  {
   "cell_type": "code",
   "execution_count": 20,
   "metadata": {},
   "outputs": [],
   "source": [
    "feature = db.data/255\n",
    "target = db.target"
   ]
  },
  {
   "cell_type": "code",
   "execution_count": 21,
   "metadata": {},
   "outputs": [],
   "source": [
    "target=target.astype(\"int64\")"
   ]
  },
  {
   "cell_type": "code",
   "execution_count": 22,
   "metadata": {},
   "outputs": [],
   "source": [
    "target=target==1\n",
    "target=target.astype(\"int64\")"
   ]
  },
  {
   "cell_type": "code",
   "execution_count": 23,
   "metadata": {},
   "outputs": [
    {
     "data": {
      "text/plain": [
       "0        0\n",
       "1        0\n",
       "2        0\n",
       "3        0\n",
       "4        0\n",
       "        ..\n",
       "69995    0\n",
       "69996    1\n",
       "69997    0\n",
       "69998    1\n",
       "69999    0\n",
       "Name: class, Length: 70000, dtype: int64"
      ]
     },
     "execution_count": 23,
     "metadata": {},
     "output_type": "execute_result"
    }
   ],
   "source": [
    "target"
   ]
  },
  {
   "cell_type": "code",
   "execution_count": 24,
   "metadata": {},
   "outputs": [],
   "source": [
    "from sklearn.model_selection import train_test_split\n",
    "x_train,x_test,y_train,y_test = train_test_split(feature,target,random_state=42)"
   ]
  },
  {
   "cell_type": "code",
   "execution_count": 25,
   "metadata": {},
   "outputs": [
    {
     "data": {
      "text/plain": [
       "((52500, 784), (52500,))"
      ]
     },
     "execution_count": 25,
     "metadata": {},
     "output_type": "execute_result"
    }
   ],
   "source": [
    "x_train.shape, y_train.shape"
   ]
  },
  {
   "cell_type": "code",
   "execution_count": 26,
   "metadata": {},
   "outputs": [],
   "source": [
    "import torch\n",
    "import torch.nn as nn\n",
    "import torch.nn.functional as F\n",
    "import torch.optim as optim\n",
    "\n",
    "model=nn.Sequential(\n",
    "    nn.Linear(784,1),\n",
    "    nn.Sigmoid()\n",
    ")\n",
    "\n",
    "Optimizer=optim.SGD(model.parameters(),lr=0.1)"
   ]
  },
  {
   "cell_type": "code",
   "execution_count": 27,
   "metadata": {},
   "outputs": [
    {
     "data": {
      "text/plain": [
       "tensor([[0.],\n",
       "        [0.],\n",
       "        [0.],\n",
       "        ...,\n",
       "        [0.],\n",
       "        [0.],\n",
       "        [0.]])"
      ]
     },
     "execution_count": 27,
     "metadata": {},
     "output_type": "execute_result"
    }
   ],
   "source": [
    "x_train = torch.tensor(x_train.values).float()\n",
    "y_train = torch.tensor(y_train.values).float()\n",
    "y_train.unsqueeze_(1)"
   ]
  },
  {
   "cell_type": "code",
   "execution_count": 28,
   "metadata": {},
   "outputs": [
    {
     "name": "stdout",
     "output_type": "stream",
     "text": [
      "0 0.6888245344161987\n",
      "Epoch    0 Cost: 0.688825 Accuracy 54.08%\n",
      "1 0.36109933257102966\n",
      "2 0.29696881771087646\n",
      "3 0.25205907225608826\n",
      "4 0.22479058802127838\n",
      "5 0.20765571296215057\n",
      "6 0.19490684568881989\n",
      "7 0.18446481227874756\n",
      "8 0.17562811076641083\n",
      "9 0.16802696883678436\n",
      "10 0.16140790283679962\n",
      "Epoch   10 Cost: 0.161408 Accuracy 96.20%\n",
      "11 0.155583456158638\n",
      "12 0.1504112035036087\n",
      "13 0.14578093588352203\n",
      "14 0.1416061520576477\n",
      "15 0.13781806826591492\n",
      "16 0.13436122238636017\n",
      "17 0.13119053840637207\n",
      "18 0.12826888263225555\n",
      "19 0.12556549906730652\n",
      "20 0.12305458635091782\n",
      "Epoch   20 Cost: 0.123055 Accuracy 98.03%\n",
      "21 0.12071441859006882\n",
      "22 0.11852648854255676\n",
      "23 0.11647497862577438\n",
      "24 0.11454629898071289\n",
      "25 0.11272859573364258\n",
      "26 0.11101163178682327\n",
      "27 0.10938642174005508\n",
      "28 0.10784503072500229\n",
      "29 0.10638049989938736\n",
      "30 0.10498660802841187\n",
      "Epoch   30 Cost: 0.104987 Accuracy 98.32%\n",
      "31 0.10365785658359528\n",
      "32 0.10238932073116302\n",
      "33 0.10117657482624054\n",
      "34 0.10001562535762787\n",
      "35 0.09890290349721909\n",
      "36 0.09783513844013214\n",
      "37 0.09680939465761185\n",
      "38 0.09582298994064331\n",
      "39 0.09487347304821014\n",
      "40 0.09395859390497208\n",
      "Epoch   40 Cost: 0.093959 Accuracy 98.47%\n",
      "41 0.09307631850242615\n",
      "42 0.09222474694252014\n",
      "43 0.09140213578939438\n",
      "44 0.09060689806938171\n",
      "45 0.08983756601810455\n",
      "46 0.08909274637699127\n",
      "47 0.08837117999792099\n",
      "48 0.0876716896891594\n",
      "49 0.08699317276477814\n",
      "50 0.08633463829755783\n",
      "Epoch   50 Cost: 0.086335 Accuracy 98.56%\n",
      "51 0.08569507300853729\n",
      "52 0.08507364243268967\n",
      "53 0.0844694972038269\n",
      "54 0.08388182520866394\n",
      "55 0.08330994844436646\n",
      "56 0.08275314420461655\n",
      "57 0.08221080154180527\n",
      "58 0.08168227225542068\n",
      "59 0.08116699010133743\n",
      "60 0.08066444098949432\n",
      "Epoch   60 Cost: 0.080664 Accuracy 98.62%\n",
      "61 0.08017411082983017\n",
      "62 0.07969548553228378\n",
      "63 0.07922814041376114\n",
      "64 0.07877165079116821\n",
      "65 0.07832559198141098\n",
      "66 0.0778895765542984\n",
      "67 0.07746324688196182\n",
      "68 0.07704624533653259\n",
      "69 0.07663824409246445\n",
      "70 0.07623893022537231\n",
      "Epoch   70 Cost: 0.076239 Accuracy 98.68%\n",
      "71 0.07584800571203232\n",
      "72 0.07546517997980118\n",
      "73 0.07509016990661621\n",
      "74 0.07472272962331772\n",
      "75 0.0743626207113266\n",
      "76 0.07400958985090256\n",
      "77 0.07366341352462769\n",
      "78 0.07332387566566467\n",
      "79 0.0729907751083374\n",
      "80 0.07266391068696976\n",
      "Epoch   80 Cost: 0.072664 Accuracy 98.72%\n",
      "81 0.07234308868646622\n",
      "82 0.07202813774347305\n",
      "83 0.07171887159347534\n",
      "84 0.07141512632369995\n",
      "85 0.07111675292253494\n",
      "86 0.07082358002662659\n",
      "87 0.07053546607494354\n",
      "88 0.07025227695703506\n",
      "89 0.06997386366128922\n",
      "90 0.06970009952783585\n",
      "Epoch   90 Cost: 0.069700 Accuracy 98.74%\n",
      "91 0.0694308653473854\n",
      "92 0.06916603446006775\n",
      "93 0.06890548020601273\n",
      "94 0.06864910572767258\n",
      "95 0.06839679181575775\n",
      "96 0.06814843416213989\n",
      "97 0.06790393590927124\n",
      "98 0.06766318529844284\n",
      "99 0.06742610782384872\n"
     ]
    }
   ],
   "source": [
    "for epoch in range(100):\n",
    "    y_pre=model(x_train)\n",
    "    loss=F.binary_cross_entropy(y_pre,y_train)\n",
    "    Optimizer.zero_grad()\n",
    "    loss.backward()\n",
    "    Optimizer.step()\n",
    "    print(epoch,loss.item())\n",
    "    \n",
    "    if epoch % 10 == 0:\n",
    "        prediction = y_pre >= torch.FloatTensor([0.5])     # 예측값이 0.5를 넘으면 True로 간주\n",
    "        correct_prediction = prediction.float() == y_train      # 실제값과 일치하는 경우만 True로 간주\n",
    "        accuracy = correct_prediction.sum().item() / len(correct_prediction) # 정확도를 계산\n",
    "\n",
    "        print(f'Epoch {epoch:4d} Cost: {loss.item():.6f} Accuracy {accuracy * 100:2.2f}%')"
   ]
  },
  {
   "cell_type": "code",
   "execution_count": 42,
   "metadata": {},
   "outputs": [
    {
     "data": {
      "text/plain": [
       "tensor([[0],\n",
       "        [0],\n",
       "        [0],\n",
       "        ...,\n",
       "        [0],\n",
       "        [1],\n",
       "        [0]])"
      ]
     },
     "execution_count": 42,
     "metadata": {},
     "output_type": "execute_result"
    }
   ],
   "source": [
    "torch.tensor(target.values).unsqueeze(1)"
   ]
  },
  {
   "cell_type": "code",
   "execution_count": 43,
   "metadata": {},
   "outputs": [
    {
     "data": {
      "text/plain": [
       "array([[1., 0.],\n",
       "       [1., 0.],\n",
       "       [1., 0.],\n",
       "       ...,\n",
       "       [1., 0.],\n",
       "       [0., 1.],\n",
       "       [1., 0.]])"
      ]
     },
     "execution_count": 43,
     "metadata": {},
     "output_type": "execute_result"
    }
   ],
   "source": [
    "# 방법 1\n",
    "from sklearn.preprocessing import OneHotEncoder\n",
    "ohEncoder = OneHotEncoder()\n",
    "ohEncoder.fit_transform(torch.tensor(target.values).unsqueeze(1)).toarray()"
   ]
  },
  {
   "cell_type": "code",
   "execution_count": 61,
   "metadata": {},
   "outputs": [
    {
     "data": {
      "text/plain": [
       "tensor([[1., 0.],\n",
       "        [1., 0.],\n",
       "        [1., 0.],\n",
       "        ...,\n",
       "        [1., 0.],\n",
       "        [0., 1.],\n",
       "        [1., 0.]])"
      ]
     },
     "execution_count": 61,
     "metadata": {},
     "output_type": "execute_result"
    }
   ],
   "source": [
    "# 방법 2\n",
    "import pandas as pd\n",
    "torch.tensor(pd.get_dummies(target).values).float()"
   ]
  },
  {
   "cell_type": "code",
   "execution_count": 45,
   "metadata": {},
   "outputs": [
    {
     "data": {
      "text/plain": [
       "array([0, 1], dtype=int64)"
      ]
     },
     "execution_count": 45,
     "metadata": {},
     "output_type": "execute_result"
    }
   ],
   "source": [
    "target.unique()"
   ]
  },
  {
   "cell_type": "code",
   "execution_count": 49,
   "metadata": {},
   "outputs": [
    {
     "data": {
      "text/plain": [
       "tensor([[1., 0.],\n",
       "        [1., 0.],\n",
       "        [1., 0.],\n",
       "        ...,\n",
       "        [1., 0.],\n",
       "        [0., 1.],\n",
       "        [1., 0.]])"
      ]
     },
     "execution_count": 49,
     "metadata": {},
     "output_type": "execute_result"
    }
   ],
   "source": [
    "# 방법 3\n",
    "import torch\n",
    "y_one_hot=torch.zeros(70000,2) # 60000은 데이터의 개수, 2는 클래스의 개수(=0,1)\n",
    "y_one_hot.scatter_(1,torch.tensor(target.values).unsqueeze(1),1) # "
   ]
  },
  {
   "cell_type": "code",
   "execution_count": 62,
   "metadata": {},
   "outputs": [
    {
     "name": "stderr",
     "output_type": "stream",
     "text": [
      "c:\\Users\\mathn\\.conda\\envs\\Torch_PY38\\lib\\site-packages\\sklearn\\datasets\\_openml.py:1002: FutureWarning: The default value of `parser` will change from `'liac-arff'` to `'auto'` in 1.4. You can set `parser='auto'` to silence this warning. Therefore, an `ImportError` will be raised from 1.4 if the dataset is dense and pandas is not installed. Note that the pandas parser may return different data types. See the Notes Section in fetch_openml's API doc for details.\n",
      "  warn(\n"
     ]
    }
   ],
   "source": [
    "# 학습 준비\n",
    "# 학습 방법 : 지도학습 - 이진분류 => Linear 클래스 + sigmoid 함수\n",
    "# 최적화방법 : 경사하강법 기반의 방법 => Adam, RMSprop, Adagrad, SGD\n",
    "# 손실함수 : 이진분류 손실 계산 함수 => binary_cross_entropy\n",
    "from sklearn.datasets import fetch_openml\n",
    "import torch\n",
    "import torch.nn as nn\n",
    "import torch.nn.functional as F\n",
    "import torch.optim as optim\n",
    "from sklearn.model_selection import train_test_split\n",
    "db = fetch_openml('Fashion-MNIST', version=1)"
   ]
  },
  {
   "cell_type": "code",
   "execution_count": 72,
   "metadata": {},
   "outputs": [
    {
     "data": {
      "text/plain": [
       "tensor([[0.],\n",
       "        [1.],\n",
       "        [0.],\n",
       "        ...,\n",
       "        [0.],\n",
       "        [0.],\n",
       "        [0.]])"
      ]
     },
     "execution_count": 72,
     "metadata": {},
     "output_type": "execute_result"
    }
   ],
   "source": [
    "feature = db.data/255\n",
    "target = db.target\n",
    "target=target.astype(\"int64\")\n",
    "target=target==1\n",
    "target=target.astype(\"int64\")\n",
    "x_train,x_test,y_train,y_test = train_test_split(feature,target,test_size=1/7,random_state=42)\n",
    "x_train = torch.tensor(x_train.values).float()\n",
    "y_train = torch.tensor(y_train.values).float()\n",
    "y_train.unsqueeze_(1)\n"
   ]
  },
  {
   "cell_type": "code",
   "execution_count": 75,
   "metadata": {},
   "outputs": [],
   "source": [
    "model=nn.Linear(x_train.shape[1],y_train.shape[1])\n",
    "\n",
    "Optimizer=optim.Adam(model.parameters(),lr=0.1)"
   ]
  },
  {
   "cell_type": "code",
   "execution_count": 95,
   "metadata": {},
   "outputs": [],
   "source": [
    "Epochs=1000\n",
    "ac_list=[]\n",
    "er_list=[]\n",
    "for epoch in range(Epochs+1):\n",
    "    y_pre=model(x_train)\n",
    "    cost = F.binary_cross_entropy(F.sigmoid(y_pre), y_train)\n",
    "    er_list.append(cost.item())\n",
    "    Optimizer.zero_grad()\n",
    "    cost.backward()\n",
    "    Optimizer.step()\n",
    "    \n",
    "    accuracy = ((F.sigmoid(y_pre) >= 0.5).int() == y_train).sum()/y_train.shape[0]*100\n",
    "    ac_list.append(accuracy)\n",
    "    "
   ]
  },
  {
   "cell_type": "code",
   "execution_count": 104,
   "metadata": {},
   "outputs": [
    {
     "data": {
      "image/png": "[encoded data removed]",
      "text/plain": [
       "<Figure size 640x480 with 2 Axes>"
      ]
     },
     "metadata": {},
     "output_type": "display_data"
    }
   ],
   "source": [
    "import matplotlib.pyplot as plt\n",
    "import koreanize_matplotlib\n",
    "\n",
    "fig,ax1=plt.subplots()\n",
    "ax1.plot(ac_list, color=\"tomato\", label=\"정확도\")\n",
    "plt.legend(loc=1)\n",
    "ax2=ax1.twinx()\n",
    "ax2.plot(er_list, color=\"blue\", label=\"오차\")\n",
    "plt.legend(loc=2)\n",
    "plt.show()"
   ]
  },
  {
   "cell_type": "code",
   "execution_count": 87,
   "metadata": {},
   "outputs": [
    {
     "data": {
      "text/plain": [
       "60000"
      ]
     },
     "execution_count": 87,
     "metadata": {},
     "output_type": "execute_result"
    }
   ],
   "source": []
  },
  {
   "cell_type": "code",
   "execution_count": null,
   "metadata": {},
   "outputs": [],
   "source": []
  }
 ],
 "metadata": {
  "kernelspec": {
   "display_name": "TORCH_PY38",
   "language": "python",
   "name": "python3"
  },
  "language_info": {
   "codemirror_mode": {
    "name": "ipython",
    "version": 3
   },
   "file_extension": ".py",
   "mimetype": "text/x-python",
   "name": "python",
   "nbconvert_exporter": "python",
   "pygments_lexer": "ipython3",
   "version": "3.8.18"
  }
 },
 "nbformat": 4,
 "nbformat_minor": 2
}
