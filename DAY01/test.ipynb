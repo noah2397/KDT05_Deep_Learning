{
 "cells": [
  {
   "cell_type": "code",
   "execution_count": 4,
   "metadata": {},
   "outputs": [],
   "source": [
    "# 파이썬 버전, pytorch 버전, pandas버전, matplotlib버전, seaborn 버전, numpy버전 확인\n",
    "import sys\n",
    "import torch\n",
    "import pandas as pd\n",
    "import matplotlib\n",
    "import seaborn as sns\n",
    "import numpy as np\n",
    "import sklearn\n"
   ]
  },
  {
   "cell_type": "code",
   "execution_count": 5,
   "metadata": {},
   "outputs": [
    {
     "name": "stdout",
     "output_type": "stream",
     "text": [
      "3.8.18 (default, Sep 11 2023, 13:39:12) [MSC v.1916 64 bit (AMD64)]\n",
      "2.2.0\n",
      "2.0.3\n",
      "3.7.2\n",
      "0.12.2\n",
      "1.24.3\n",
      "1.3.0\n"
     ]
    }
   ],
   "source": [
    "print(sys.version)\n",
    "print(torch.__version__)\n",
    "print(pd.__version__)\n",
    "print(matplotlib.__version__)\n",
    "print(sns.__version__)\n",
    "print(np.__version__)\n",
    "print(sklearn.__version__)"
   ]
  },
  {
   "cell_type": "code",
   "execution_count": 7,
   "metadata": {},
   "outputs": [
    {
     "name": "stdout",
     "output_type": "stream",
     "text": [
      "GPU => False\n"
     ]
    }
   ],
   "source": [
    "# 해당 PC에 GPU 사용 가능 여부 확인\n",
    "print(f'GPU => {torch.cuda.is_available()}')"
   ]
  },
  {
   "cell_type": "code",
   "execution_count": null,
   "metadata": {},
   "outputs": [],
   "source": [
    "# "
   ]
  }
 ],
 "metadata": {
  "kernelspec": {
   "display_name": "Torch_PY38",
   "language": "python",
   "name": "python3"
  },
  "language_info": {
   "codemirror_mode": {
    "name": "ipython",
    "version": 3
   },
   "file_extension": ".py",
   "mimetype": "text/x-python",
   "name": "python",
   "nbconvert_exporter": "python",
   "pygments_lexer": "ipython3",
   "version": "3.8.18"
  }
 },
 "nbformat": 4,
 "nbformat_minor": 2
}
