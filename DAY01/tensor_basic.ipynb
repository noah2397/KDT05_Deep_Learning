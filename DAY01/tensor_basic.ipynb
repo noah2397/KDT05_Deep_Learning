{
 "cells": [
  {
   "cell_type": "code",
   "execution_count": 2,
   "metadata": {},
   "outputs": [],
   "source": [
    "# 파이썬 버전, pytorch 버전, pandas버전, matplotlib버전, seaborn 버전, numpy버전 확인\n",
    "import sys\n",
    "import torch\n",
    "import pandas as pd\n",
    "import matplotlib\n",
    "import seaborn as sns\n",
    "import numpy as np\n",
    "import sklearn\n"
   ]
  },
  {
   "cell_type": "code",
   "execution_count": 3,
   "metadata": {},
   "outputs": [
    {
     "name": "stdout",
     "output_type": "stream",
     "text": [
      "3.8.18 (default, Sep 11 2023, 13:39:12) [MSC v.1916 64 bit (AMD64)]\n",
      "2.2.0\n",
      "2.0.3\n",
      "3.7.2\n",
      "0.12.2\n",
      "1.24.3\n",
      "1.3.0\n"
     ]
    }
   ],
   "source": [
    "print(sys.version)\n",
    "print(torch.__version__)\n",
    "print(pd.__version__)\n",
    "print(matplotlib.__version__)\n",
    "print(sns.__version__)\n",
    "print(np.__version__)\n",
    "print(sklearn.__version__)"
   ]
  },
  {
   "cell_type": "code",
   "execution_count": 4,
   "metadata": {},
   "outputs": [
    {
     "name": "stdout",
     "output_type": "stream",
     "text": [
      "GPU => False\n"
     ]
    }
   ],
   "source": [
    "# 해당 PC에 GPU 사용 가능 여부 확인\n",
    "print(f'GPU => {torch.cuda.is_available()}')"
   ]
  },
  {
   "cell_type": "code",
   "execution_count": 5,
   "metadata": {},
   "outputs": [],
   "source": [
    "# 텐서(Tensor) 살펴보기\n",
    "# - Pytorch에서 데이터 저장 자료형\n",
    "# - 모델 입력(input), 출력(output) 데이터 형태"
   ]
  },
  {
   "cell_type": "code",
   "execution_count": 6,
   "metadata": {},
   "outputs": [],
   "source": [
    "import torch\n",
    "def print_attribute(tensor, name):\n",
    "    print(f\"[Tensor {name}]\\s Attribute\")\n",
    "    print(f\" - tensor.shape : {tensor.shape}\")\n",
    "    print(f\" - tensor.ndim : {tensor.ndim}\")\n",
    "    print(f\" - tensor.dtype : {tensor.dtype}\")\n",
    "    print(f\" - tensor.device : {tensor.device}\")\n",
    "    print(f\" - tensor.requies_grad : {tensor.requires_grad}\")\n",
    "    print(f\" - tensor.data \\n: {tensor.data}\")"
   ]
  },
  {
   "cell_type": "code",
   "execution_count": 7,
   "metadata": {},
   "outputs": [],
   "source": [
    "# 정수 타입 텐서 생성\n",
    "t1=torch.IntTensor(10)\n",
    "t2=torch.IntTensor([10,20])\n"
   ]
  },
  {
   "cell_type": "code",
   "execution_count": 8,
   "metadata": {},
   "outputs": [
    {
     "name": "stdout",
     "output_type": "stream",
     "text": [
      "[Tensor t1]\\s Attribute\n",
      " - tensor.shape : torch.Size([10])\n",
      " - tensor.ndim : 1\n",
      " - tensor.dtype : torch.int32\n",
      " - tensor.device : cpu\n",
      " - tensor.requies_grad : False\n",
      " - tensor.data \n",
      ": tensor([0, 0, 0, 0, 0, 0, 0, 0, 0, 0], dtype=torch.int32)\n",
      "[Tensor t2]\\s Attribute\n",
      " - tensor.shape : torch.Size([2])\n",
      " - tensor.ndim : 1\n",
      " - tensor.dtype : torch.int32\n",
      " - tensor.device : cpu\n",
      " - tensor.requies_grad : False\n",
      " - tensor.data \n",
      ": tensor([10, 20], dtype=torch.int32)\n"
     ]
    }
   ],
   "source": [
    "print_attribute(t1,'t1')\n",
    "print_attribute(t2,'t2')"
   ]
  },
  {
   "cell_type": "code",
   "execution_count": 9,
   "metadata": {},
   "outputs": [
    {
     "name": "stdout",
     "output_type": "stream",
     "text": [
      "[Tensor t3]\\s Attribute\n",
      " - tensor.shape : torch.Size([4])\n",
      " - tensor.ndim : 1\n",
      " - tensor.dtype : torch.bool\n",
      " - tensor.device : cpu\n",
      " - tensor.requies_grad : False\n",
      " - tensor.data \n",
      ": tensor([ True,  True,  True, False])\n"
     ]
    }
   ],
   "source": [
    "t3=torch.BoolTensor([1,1,-1,0])\n",
    "print_attribute(t3,'t3')"
   ]
  },
  {
   "cell_type": "code",
   "execution_count": 10,
   "metadata": {},
   "outputs": [
    {
     "name": "stdout",
     "output_type": "stream",
     "text": [
      "[Tensor t4]\\s Attribute\n",
      " - tensor.shape : torch.Size([4])\n",
      " - tensor.ndim : 1\n",
      " - tensor.dtype : torch.float32\n",
      " - tensor.device : cpu\n",
      " - tensor.requies_grad : False\n",
      " - tensor.data \n",
      ": tensor([ 1.,  1., -1.,  0.])\n"
     ]
    }
   ],
   "source": [
    "t4=torch.FloatTensor([1,1,-1,0])\n",
    "print_attribute(t4,'t4')"
   ]
  },
  {
   "cell_type": "code",
   "execution_count": 11,
   "metadata": {},
   "outputs": [
    {
     "name": "stdout",
     "output_type": "stream",
     "text": [
      "[Tensor t1]\\s Attribute\n",
      " - tensor.shape : torch.Size([])\n",
      " - tensor.ndim : 0\n",
      " - tensor.dtype : torch.int64\n",
      " - tensor.device : cpu\n",
      " - tensor.requies_grad : False\n",
      " - tensor.data \n",
      ": 10\n"
     ]
    }
   ],
   "source": [
    "# Tensor 생성 : 원하는 값으로 텐서 생성 => torch.tensor()\n",
    "t1=torch.tensor(10)\n",
    "print_attribute(t1,'t1') # 자동으로 int64로 생성"
   ]
  },
  {
   "cell_type": "code",
   "execution_count": 12,
   "metadata": {},
   "outputs": [
    {
     "name": "stdout",
     "output_type": "stream",
     "text": [
      "[Tensor t2]\\s Attribute\n",
      " - tensor.shape : torch.Size([])\n",
      " - tensor.ndim : 0\n",
      " - tensor.dtype : torch.float32\n",
      " - tensor.device : cpu\n",
      " - tensor.requies_grad : False\n",
      " - tensor.data \n",
      ": 10.0\n"
     ]
    }
   ],
   "source": [
    "t2=torch.tensor(10.)\n",
    "print_attribute(t2,'t2')"
   ]
  },
  {
   "cell_type": "code",
   "execution_count": 13,
   "metadata": {},
   "outputs": [
    {
     "name": "stdout",
     "output_type": "stream",
     "text": [
      "[Tensor t2]\\s Attribute\n",
      " - tensor.shape : torch.Size([])\n",
      " - tensor.ndim : 0\n",
      " - tensor.dtype : torch.int32\n",
      " - tensor.device : cpu\n",
      " - tensor.requies_grad : False\n",
      " - tensor.data \n",
      ": 10\n"
     ]
    },
    {
     "name": "stderr",
     "output_type": "stream",
     "text": [
      "C:\\Users\\mathn\\AppData\\Local\\Temp\\ipykernel_23556\\955552128.py:1: DeprecationWarning: an integer is required (got type float).  Implicit conversion to integers using __int__ is deprecated, and may be removed in a future version of Python.\n",
      "  t2=torch.tensor(10., dtype=torch.int32) # 강제적으로 변경\n"
     ]
    }
   ],
   "source": [
    "t2=torch.tensor(10., dtype=torch.int32) # 강제적으로 변경\n",
    "print_attribute(t2,'t2')"
   ]
  },
  {
   "cell_type": "code",
   "execution_count": 14,
   "metadata": {},
   "outputs": [
    {
     "name": "stdout",
     "output_type": "stream",
     "text": [
      "[Tensor t3]\\s Attribute\n",
      " - tensor.shape : torch.Size([1, 3])\n",
      " - tensor.ndim : 2\n",
      " - tensor.dtype : torch.int8\n",
      " - tensor.device : cpu\n",
      " - tensor.requies_grad : False\n",
      " - tensor.data \n",
      ": tensor([[1, 2, 3]], dtype=torch.int8)\n"
     ]
    }
   ],
   "source": [
    "t3=torch.tensor([[1,2,3]], dtype=torch.int8) # 강제적으로 변경\n",
    "print_attribute(t3,'t3')"
   ]
  },
  {
   "cell_type": "code",
   "execution_count": 15,
   "metadata": {},
   "outputs": [],
   "source": [
    "# Tensor 생성 기술\n"
   ]
  },
  {
   "cell_type": "code",
   "execution_count": 16,
   "metadata": {},
   "outputs": [
    {
     "name": "stdout",
     "output_type": "stream",
     "text": [
      "[Tensor t1]\\s Attribute\n",
      " - tensor.shape : torch.Size([5, 5])\n",
      " - tensor.ndim : 2\n",
      " - tensor.dtype : torch.int8\n",
      " - tensor.device : cpu\n",
      " - tensor.requies_grad : False\n",
      " - tensor.data \n",
      ": tensor([[0, 0, 0, 0, 0],\n",
      "        [0, 0, 0, 0, 0],\n",
      "        [0, 0, 0, 0, 0],\n",
      "        [0, 0, 0, 0, 0],\n",
      "        [0, 0, 0, 0, 0]], dtype=torch.int8)\n"
     ]
    }
   ],
   "source": [
    "t1=torch.zeros((5,5), dtype=torch.int8)\n",
    "print_attribute(t1,'t1')"
   ]
  },
  {
   "cell_type": "code",
   "execution_count": 17,
   "metadata": {},
   "outputs": [
    {
     "name": "stdout",
     "output_type": "stream",
     "text": [
      "[Tensor t2]\\s Attribute\n",
      " - tensor.shape : torch.Size([5, 5])\n",
      " - tensor.ndim : 2\n",
      " - tensor.dtype : torch.int8\n",
      " - tensor.device : cpu\n",
      " - tensor.requies_grad : False\n",
      " - tensor.data \n",
      ": tensor([[1, 1, 1, 1, 1],\n",
      "        [1, 1, 1, 1, 1],\n",
      "        [1, 1, 1, 1, 1],\n",
      "        [1, 1, 1, 1, 1],\n",
      "        [1, 1, 1, 1, 1]], dtype=torch.int8)\n"
     ]
    }
   ],
   "source": [
    "t2=torch.ones((5,5), dtype=torch.int8)\n",
    "print_attribute(t2,'t2')"
   ]
  },
  {
   "cell_type": "code",
   "execution_count": 18,
   "metadata": {},
   "outputs": [
    {
     "data": {
      "text/plain": [
       "tensor([[1, 1, 1, 1, 1, 1],\n",
       "        [1, 1, 1, 1, 1, 1]])"
      ]
     },
     "execution_count": 18,
     "metadata": {},
     "output_type": "execute_result"
    }
   ],
   "source": [
    "# 이미 존재하는 텐서와 동일한 shape으로 잡고 값 채우기 => zeros_like(), ones_like()\n",
    "torch.ones_like(torch.tensor([[1,2,3,4,5,6],[9,8,7,6,5,5]]))"
   ]
  },
  {
   "cell_type": "code",
   "execution_count": 19,
   "metadata": {},
   "outputs": [
    {
     "data": {
      "text/plain": [
       "tensor([[7, 7, 7, 7, 7, 7],\n",
       "        [7, 7, 7, 7, 7, 7]])"
      ]
     },
     "execution_count": 19,
     "metadata": {},
     "output_type": "execute_result"
    }
   ],
   "source": [
    "torch.full_like(torch.tensor([[1,2,3,4,5,6],[9,8,7,6,5,5]]),7)"
   ]
  },
  {
   "cell_type": "code",
   "execution_count": 20,
   "metadata": {},
   "outputs": [
    {
     "data": {
      "text/plain": [
       "tensor([[0.4657, 0.2328, 0.4527],\n",
       "        [0.5871, 0.4086, 0.1272]])"
      ]
     },
     "execution_count": 20,
     "metadata": {},
     "output_type": "execute_result"
    }
   ],
   "source": [
    "torch.manual_seed ( 12 ) # 랜덤 초기값 설정\n",
    "torch.rand( 2, 3 ).data"
   ]
  },
  {
   "cell_type": "code",
   "execution_count": 21,
   "metadata": {},
   "outputs": [
    {
     "data": {
      "text/plain": [
       "tensor([[ 1.5869,  1.1268, -1.2274],\n",
       "        [-0.8216, -1.7861,  0.6167]])"
      ]
     },
     "execution_count": 21,
     "metadata": {},
     "output_type": "execute_result"
    }
   ],
   "source": [
    "torch.randn( 2, 3).data"
   ]
  },
  {
   "cell_type": "code",
   "execution_count": 22,
   "metadata": {},
   "outputs": [
    {
     "data": {
      "text/plain": [
       "tensor([[8, 4, 6],\n",
       "        [2, 2, 2]])"
      ]
     },
     "execution_count": 22,
     "metadata": {},
     "output_type": "execute_result"
    }
   ],
   "source": [
    "torch.randint( low=1, high=10, size=(2,3) ).data"
   ]
  },
  {
   "cell_type": "code",
   "execution_count": 23,
   "metadata": {},
   "outputs": [],
   "source": [
    "import numpy as np\n",
    "arr = np.array ( [1,3,5] ) # ndarray 객체\n",
    "t1 = torch.from_numpy( arr ) # Sharing\n",
    "t2 = torch.as_tensor( arr ) # Sharing\n",
    "t3 = torch.tensor( arr ) # Copy"
   ]
  },
  {
   "cell_type": "code",
   "execution_count": 24,
   "metadata": {},
   "outputs": [
    {
     "data": {
      "text/plain": [
       "(tensor([100,   3,   5], dtype=torch.int32),\n",
       " tensor([100,   3,   5], dtype=torch.int32),\n",
       " tensor([1, 3, 5], dtype=torch.int32))"
      ]
     },
     "execution_count": 24,
     "metadata": {},
     "output_type": "execute_result"
    }
   ],
   "source": [
    "# ndarray 객체의 값 변경\n",
    "arr[0]=100\n",
    "t1,t2,t3"
   ]
  },
  {
   "cell_type": "code",
   "execution_count": 25,
   "metadata": {},
   "outputs": [
    {
     "data": {
      "text/plain": [
       "tensor([1, 4, 7])"
      ]
     },
     "execution_count": 25,
     "metadata": {},
     "output_type": "execute_result"
    }
   ],
   "source": [
    "torch.arange(2) # 0<= ~ < 2 1간격\n",
    "torch.arange(1,10) # 1<= ~ < 10 1간격\n",
    "torch.arange(1,10,3) # 1<= ~ < 10 3간격"
   ]
  },
  {
   "cell_type": "code",
   "execution_count": 26,
   "metadata": {},
   "outputs": [
    {
     "name": "stderr",
     "output_type": "stream",
     "text": [
      "C:\\Users\\mathn\\AppData\\Local\\Temp\\ipykernel_23556\\2758694134.py:4: DeprecationWarning: an integer is required (got type float).  Implicit conversion to integers using __int__ is deprecated, and may be removed in a future version of Python.\n",
      "  points=torch.tensor([[4.,2.],[5.,3.],[6.,7.]], dtype=torch.int16)\n"
     ]
    },
    {
     "data": {
      "text/plain": [
       "tensor([[4, 2],\n",
       "        [5, 3],\n",
       "        [6, 7]], dtype=torch.int16)"
      ]
     },
     "execution_count": 26,
     "metadata": {},
     "output_type": "execute_result"
    }
   ],
   "source": [
    "# 인덱싱과 슬라이싱\n",
    "import torch\n",
    "\n",
    "points=torch.tensor([[4.,2.],[5.,3.],[6.,7.]], dtype=torch.int16)\n",
    "points"
   ]
  },
  {
   "cell_type": "code",
   "execution_count": 27,
   "metadata": {},
   "outputs": [
    {
     "data": {
      "text/plain": [
       "tensor(3, dtype=torch.int16)"
      ]
     },
     "execution_count": 27,
     "metadata": {},
     "output_type": "execute_result"
    }
   ],
   "source": [
    "# 데이터 3 추출\n",
    "points[1,1]"
   ]
  },
  {
   "cell_type": "code",
   "execution_count": 28,
   "metadata": {},
   "outputs": [
    {
     "name": "stdout",
     "output_type": "stream",
     "text": [
      "tensor(4, dtype=torch.int16)\n",
      "tensor(2, dtype=torch.int16)\n",
      "tensor(5, dtype=torch.int16)\n",
      "tensor(3, dtype=torch.int16)\n",
      "tensor(6, dtype=torch.int16)\n",
      "tensor(7, dtype=torch.int16)\n"
     ]
    }
   ],
   "source": [
    "# 1번 행부터 나머지 모든 행 추출\n",
    "for i in points:\n",
    "    for j in i:\n",
    "        print(j)"
   ]
  },
  {
   "cell_type": "code",
   "execution_count": 29,
   "metadata": {},
   "outputs": [
    {
     "name": "stdout",
     "output_type": "stream",
     "text": [
      "tensor([[5., 9.]]) torch.Size([1, 2])\n"
     ]
    }
   ],
   "source": [
    "# Case 1 : 같은 크기 행렬\n",
    "m1 = torch.FloatTensor([[3, 4]])\n",
    "m2 = torch.FloatTensor([[2, 5]])\n",
    "m3=m1+m2\n",
    "print(m3, m3.shape)"
   ]
  },
  {
   "cell_type": "code",
   "execution_count": 31,
   "metadata": {},
   "outputs": [
    {
     "name": "stdout",
     "output_type": "stream",
     "text": [
      "tensor([[4., 5.]]) torch.Size([1, 2])\n"
     ]
    }
   ],
   "source": [
    "# Case 2 : 벡터와 행렬\n",
    "m1 = torch.FloatTensor([[1, 2]])\n",
    "m2 = torch.FloatTensor([3])\n",
    "m3 = m1 + m2\n",
    "print(m3, m3.shape)"
   ]
  },
  {
   "cell_type": "code",
   "execution_count": 32,
   "metadata": {},
   "outputs": [
    {
     "name": "stdout",
     "output_type": "stream",
     "text": [
      "tensor([[4., 5.],\n",
      "        [5., 6.]]) torch.Size([2, 2])\n"
     ]
    }
   ],
   "source": [
    "# Case 3 : 크기 다른 두 개 행렬\n",
    "m1 = torch.FloatTensor([[1, 2]])\n",
    "m2 = torch.FloatTensor([[3], [4]])\n",
    "m3 = m1 + m2\n",
    "print(m3, m3.shape)"
   ]
  },
  {
   "cell_type": "code",
   "execution_count": 33,
   "metadata": {},
   "outputs": [
    {
     "name": "stdout",
     "output_type": "stream",
     "text": [
      "Shape of Matrix 1:  torch.Size([2, 2])\n",
      "Shape of Matrix 2:  torch.Size([2, 1])\n",
      "tensor([[1., 2.],\n",
      "        [6., 8.]])\n",
      "tensor([[1., 2.],\n",
      "        [6., 8.]])\n"
     ]
    }
   ],
   "source": [
    "m1 = torch.FloatTensor([[1, 2], [3, 4]])\n",
    "m2 = torch.FloatTensor([[1], [2]])\n",
    "print('Shape of Matrix 1: ', m1.shape)\n",
    "print('Shape of Matrix 2: ', m2.shape)\n",
    "print( m1 * m2 )\n",
    "print( m1.mul( m2 ) )"
   ]
  },
  {
   "cell_type": "code",
   "execution_count": 35,
   "metadata": {},
   "outputs": [
    {
     "name": "stdout",
     "output_type": "stream",
     "text": [
      "Shape of Matrix 1:  torch.Size([2, 2])\n",
      "Shape of Matrix 2:  torch.Size([2, 1])\n",
      "tensor([[ 5.],\n",
      "        [11.]])\n"
     ]
    }
   ],
   "source": [
    "m1 = torch.FloatTensor([[1, 2], [3, 4]])\n",
    "m2 = torch.FloatTensor([[1], [2]])\n",
    "print('Shape of Matrix 1: ', m1.shape)\n",
    "print('Shape of Matrix 2: ', m2.shape)\n",
    "m12= m1.matmul( m2 )\n",
    "print( m12.data)"
   ]
  },
  {
   "cell_type": "code",
   "execution_count": null,
   "metadata": {},
   "outputs": [],
   "source": []
  }
 ],
 "metadata": {
  "kernelspec": {
   "display_name": "Torch_PY38",
   "language": "python",
   "name": "python3"
  },
  "language_info": {
   "codemirror_mode": {
    "name": "ipython",
    "version": 3
   },
   "file_extension": ".py",
   "mimetype": "text/x-python",
   "name": "python",
   "nbconvert_exporter": "python",
   "pygments_lexer": "ipython3",
   "version": "3.8.18"
  }
 },
 "nbformat": 4,
 "nbformat_minor": 2
}
